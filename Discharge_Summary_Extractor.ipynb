{
  "nbformat": 4,
  "nbformat_minor": 0,
  "metadata": {
    "colab": {
      "provenance": [],
      "include_colab_link": true
    },
    "kernelspec": {
      "name": "python3",
      "display_name": "Python 3"
    },
    "language_info": {
      "name": "python"
    }
  },
  "cells": [
    {
      "cell_type": "markdown",
      "metadata": {
        "id": "view-in-github",
        "colab_type": "text"
      },
      "source": [
        "<a href=\"https://colab.research.google.com/github/ArjunRAj77/Discharge-summary-extractor/blob/main/Discharge_Summary_Extractor.ipynb\" target=\"_parent\"><img src=\"https://colab.research.google.com/assets/colab-badge.svg\" alt=\"Open In Colab\"/></a>"
      ]
    },
    {
      "cell_type": "code",
      "source": [
        "pip install ngrok"
      ],
      "metadata": {
        "id": "XUlRcnVJRyzn",
        "colab": {
          "base_uri": "https://localhost:8080/"
        },
        "outputId": "501156d2-d729-4e12-e64f-55042327dd2f"
      },
      "execution_count": 1,
      "outputs": [
        {
          "output_type": "stream",
          "name": "stdout",
          "text": [
            "Looking in indexes: https://pypi.org/simple, https://us-python.pkg.dev/colab-wheels/public/simple/\n",
            "Collecting ngrok\n",
            "  Downloading ngrok-0.1.6.tar.gz (3.5 kB)\n",
            "Collecting ping\n",
            "  Downloading ping-0.2.tar.gz (10 kB)\n",
            "\u001b[33mWARNING: Discarding https://files.pythonhosted.org/packages/03/ac/9a3f332f8d7d27cd8929922b2e225842c1623760364b37fc79dc0f65e77d/ping-0.2.tar.gz#sha256=ecb32294c2af8ae075de4a3743f568db376480ad81c2e010a7f1ce1cee7b030f (from https://pypi.org/simple/ping/). Command errored out with exit status 1: python setup.py egg_info Check the logs for full command output.\u001b[0m\n",
            "  Downloading ping-0.1.tar.gz (10 kB)\n",
            "\u001b[33mWARNING: Discarding https://files.pythonhosted.org/packages/e6/e1/0d6a865e59fc27e13c0f39afea889f34a62b209046bfb863b62b614e5a3a/ping-0.1.tar.gz#sha256=e86c646487241be6e44262b182f0fbfdc2c00f2a4a0b7b3f0c499137957d81c1 (from https://pypi.org/simple/ping/). Command errored out with exit status 1: python setup.py egg_info Check the logs for full command output.\u001b[0m\n",
            "Collecting ngrok\n",
            "  Downloading ngrok-0.1.5.tar.gz (3.5 kB)\n",
            "  Downloading ngrok-0.1.4-py3-none-any.whl (4.3 kB)\n",
            "  Downloading ngrok-0.0.1.tar.gz (1.4 kB)\n",
            "Building wheels for collected packages: ngrok\n",
            "  Building wheel for ngrok (setup.py) ... \u001b[?25l\u001b[?25hdone\n",
            "  Created wheel for ngrok: filename=ngrok-0.0.1-py3-none-any.whl size=3060 sha256=563f6a9adcad806c1aa2a4079b812ce87a02a0e9317bec691dcd53e2c2765a0e\n",
            "  Stored in directory: /root/.cache/pip/wheels/b2/f2/1e/11e57b35a7c1ea622a4cff4d9622bebd373f6371f3b1728a00\n",
            "Successfully built ngrok\n",
            "Installing collected packages: ngrok\n",
            "Successfully installed ngrok-0.0.1\n"
          ]
        }
      ]
    },
    {
      "cell_type": "code",
      "source": [
        "!./ngrok authtokens 2I25bavkwHYELR9tekrQDh8hpX7_e4JXyMTiF1UdcvBXdF7n"
      ],
      "metadata": {
        "colab": {
          "base_uri": "https://localhost:8080/"
        },
        "id": "5rWUupGgR2t5",
        "outputId": "aa19f028-c508-4ca5-ac80-728acf6ba4b1"
      },
      "execution_count": 6,
      "outputs": [
        {
          "output_type": "stream",
          "name": "stdout",
          "text": [
            "/bin/bash: ./ngrok: No such file or directory\n"
          ]
        }
      ]
    },
    {
      "cell_type": "code",
      "source": [
        "!pip install pyngrok"
      ],
      "metadata": {
        "id": "mma6RTWWR5LE",
        "colab": {
          "base_uri": "https://localhost:8080/"
        },
        "outputId": "98bb37f2-03c0-41d2-bf4f-2060262bafb7"
      },
      "execution_count": 7,
      "outputs": [
        {
          "output_type": "stream",
          "name": "stdout",
          "text": [
            "Looking in indexes: https://pypi.org/simple, https://us-python.pkg.dev/colab-wheels/public/simple/\n",
            "Collecting pyngrok\n",
            "  Downloading pyngrok-5.1.0.tar.gz (745 kB)\n",
            "\u001b[?25l\r\u001b[K     |▍                               | 10 kB 34.8 MB/s eta 0:00:01\r\u001b[K     |▉                               | 20 kB 37.6 MB/s eta 0:00:01\r\u001b[K     |█▎                              | 30 kB 42.1 MB/s eta 0:00:01\r\u001b[K     |█▊                              | 40 kB 47.0 MB/s eta 0:00:01\r\u001b[K     |██▏                             | 51 kB 51.6 MB/s eta 0:00:01\r\u001b[K     |██▋                             | 61 kB 56.4 MB/s eta 0:00:01\r\u001b[K     |███                             | 71 kB 37.4 MB/s eta 0:00:01\r\u001b[K     |███▌                            | 81 kB 32.2 MB/s eta 0:00:01\r\u001b[K     |████                            | 92 kB 34.2 MB/s eta 0:00:01\r\u001b[K     |████▍                           | 102 kB 36.4 MB/s eta 0:00:01\r\u001b[K     |████▉                           | 112 kB 36.4 MB/s eta 0:00:01\r\u001b[K     |█████▎                          | 122 kB 36.4 MB/s eta 0:00:01\r\u001b[K     |█████▊                          | 133 kB 36.4 MB/s eta 0:00:01\r\u001b[K     |██████▏                         | 143 kB 36.4 MB/s eta 0:00:01\r\u001b[K     |██████▋                         | 153 kB 36.4 MB/s eta 0:00:01\r\u001b[K     |███████                         | 163 kB 36.4 MB/s eta 0:00:01\r\u001b[K     |███████▌                        | 174 kB 36.4 MB/s eta 0:00:01\r\u001b[K     |████████                        | 184 kB 36.4 MB/s eta 0:00:01\r\u001b[K     |████████▍                       | 194 kB 36.4 MB/s eta 0:00:01\r\u001b[K     |████████▉                       | 204 kB 36.4 MB/s eta 0:00:01\r\u001b[K     |█████████▎                      | 215 kB 36.4 MB/s eta 0:00:01\r\u001b[K     |█████████▊                      | 225 kB 36.4 MB/s eta 0:00:01\r\u001b[K     |██████████▏                     | 235 kB 36.4 MB/s eta 0:00:01\r\u001b[K     |██████████▌                     | 245 kB 36.4 MB/s eta 0:00:01\r\u001b[K     |███████████                     | 256 kB 36.4 MB/s eta 0:00:01\r\u001b[K     |███████████▍                    | 266 kB 36.4 MB/s eta 0:00:01\r\u001b[K     |███████████▉                    | 276 kB 36.4 MB/s eta 0:00:01\r\u001b[K     |████████████▎                   | 286 kB 36.4 MB/s eta 0:00:01\r\u001b[K     |████████████▊                   | 296 kB 36.4 MB/s eta 0:00:01\r\u001b[K     |█████████████▏                  | 307 kB 36.4 MB/s eta 0:00:01\r\u001b[K     |█████████████▋                  | 317 kB 36.4 MB/s eta 0:00:01\r\u001b[K     |██████████████                  | 327 kB 36.4 MB/s eta 0:00:01\r\u001b[K     |██████████████▌                 | 337 kB 36.4 MB/s eta 0:00:01\r\u001b[K     |███████████████                 | 348 kB 36.4 MB/s eta 0:00:01\r\u001b[K     |███████████████▍                | 358 kB 36.4 MB/s eta 0:00:01\r\u001b[K     |███████████████▉                | 368 kB 36.4 MB/s eta 0:00:01\r\u001b[K     |████████████████▎               | 378 kB 36.4 MB/s eta 0:00:01\r\u001b[K     |████████████████▊               | 389 kB 36.4 MB/s eta 0:00:01\r\u001b[K     |█████████████████▏              | 399 kB 36.4 MB/s eta 0:00:01\r\u001b[K     |█████████████████▋              | 409 kB 36.4 MB/s eta 0:00:01\r\u001b[K     |██████████████████              | 419 kB 36.4 MB/s eta 0:00:01\r\u001b[K     |██████████████████▌             | 430 kB 36.4 MB/s eta 0:00:01\r\u001b[K     |███████████████████             | 440 kB 36.4 MB/s eta 0:00:01\r\u001b[K     |███████████████████▍            | 450 kB 36.4 MB/s eta 0:00:01\r\u001b[K     |███████████████████▉            | 460 kB 36.4 MB/s eta 0:00:01\r\u001b[K     |████████████████████▎           | 471 kB 36.4 MB/s eta 0:00:01\r\u001b[K     |████████████████████▋           | 481 kB 36.4 MB/s eta 0:00:01\r\u001b[K     |█████████████████████           | 491 kB 36.4 MB/s eta 0:00:01\r\u001b[K     |█████████████████████▌          | 501 kB 36.4 MB/s eta 0:00:01\r\u001b[K     |██████████████████████          | 512 kB 36.4 MB/s eta 0:00:01\r\u001b[K     |██████████████████████▍         | 522 kB 36.4 MB/s eta 0:00:01\r\u001b[K     |██████████████████████▉         | 532 kB 36.4 MB/s eta 0:00:01\r\u001b[K     |███████████████████████▎        | 542 kB 36.4 MB/s eta 0:00:01\r\u001b[K     |███████████████████████▊        | 552 kB 36.4 MB/s eta 0:00:01\r\u001b[K     |████████████████████████▏       | 563 kB 36.4 MB/s eta 0:00:01\r\u001b[K     |████████████████████████▋       | 573 kB 36.4 MB/s eta 0:00:01\r\u001b[K     |█████████████████████████       | 583 kB 36.4 MB/s eta 0:00:01\r\u001b[K     |█████████████████████████▌      | 593 kB 36.4 MB/s eta 0:00:01\r\u001b[K     |██████████████████████████      | 604 kB 36.4 MB/s eta 0:00:01\r\u001b[K     |██████████████████████████▍     | 614 kB 36.4 MB/s eta 0:00:01\r\u001b[K     |██████████████████████████▉     | 624 kB 36.4 MB/s eta 0:00:01\r\u001b[K     |███████████████████████████▎    | 634 kB 36.4 MB/s eta 0:00:01\r\u001b[K     |███████████████████████████▊    | 645 kB 36.4 MB/s eta 0:00:01\r\u001b[K     |████████████████████████████▏   | 655 kB 36.4 MB/s eta 0:00:01\r\u001b[K     |████████████████████████████▋   | 665 kB 36.4 MB/s eta 0:00:01\r\u001b[K     |█████████████████████████████   | 675 kB 36.4 MB/s eta 0:00:01\r\u001b[K     |█████████████████████████████▌  | 686 kB 36.4 MB/s eta 0:00:01\r\u001b[K     |██████████████████████████████  | 696 kB 36.4 MB/s eta 0:00:01\r\u001b[K     |██████████████████████████████▍ | 706 kB 36.4 MB/s eta 0:00:01\r\u001b[K     |██████████████████████████████▊ | 716 kB 36.4 MB/s eta 0:00:01\r\u001b[K     |███████████████████████████████▏| 727 kB 36.4 MB/s eta 0:00:01\r\u001b[K     |███████████████████████████████▋| 737 kB 36.4 MB/s eta 0:00:01\r\u001b[K     |████████████████████████████████| 745 kB 36.4 MB/s \n",
            "\u001b[?25hRequirement already satisfied: PyYAML in /usr/local/lib/python3.7/dist-packages (from pyngrok) (6.0)\n",
            "Building wheels for collected packages: pyngrok\n",
            "  Building wheel for pyngrok (setup.py) ... \u001b[?25l\u001b[?25hdone\n",
            "  Created wheel for pyngrok: filename=pyngrok-5.1.0-py3-none-any.whl size=19006 sha256=c504dd977f82f55a003b38bd279c6ed6b05d126e36127a87babc3362349f2ba8\n",
            "  Stored in directory: /root/.cache/pip/wheels/bf/e6/af/ccf6598ecefecd44104069371795cb9b3afbcd16987f6ccfb3\n",
            "Successfully built pyngrok\n",
            "Installing collected packages: pyngrok\n",
            "Successfully installed pyngrok-5.1.0\n"
          ]
        }
      ]
    },
    {
      "cell_type": "code",
      "source": [
        "from pyngrok import ngrok\n",
        "public_url = ngrok.connect(port='8501')\n",
        "public_url"
      ],
      "metadata": {
        "id": "bphD3AQtR7h0",
        "colab": {
          "base_uri": "https://localhost:8080/"
        },
        "outputId": "fca3b48a-31da-48a7-a953-4736e5fc2337"
      },
      "execution_count": null,
      "outputs": [
        {
          "output_type": "stream",
          "name": "stdout",
          "text": []
        },
        {
          "output_type": "execute_result",
          "data": {
            "text/plain": [
              "<NgrokTunnel: \"http://3763-35-199-31-98.ngrok.io\" -> \"http://localhost:80\">"
            ]
          },
          "metadata": {},
          "execution_count": 5
        }
      ]
    },
    {
      "cell_type": "code",
      "source": [
        "pip install streamlit"
      ],
      "metadata": {
        "id": "HofzNGHuR98Y",
        "colab": {
          "base_uri": "https://localhost:8080/"
        },
        "outputId": "f68087bc-753a-4bea-960c-b0c01206ff23"
      },
      "execution_count": 5,
      "outputs": [
        {
          "output_type": "stream",
          "name": "stdout",
          "text": [
            "Looking in indexes: https://pypi.org/simple, https://us-python.pkg.dev/colab-wheels/public/simple/\n",
            "Requirement already satisfied: streamlit in /usr/local/lib/python3.7/dist-packages (1.15.1)\n",
            "Requirement already satisfied: watchdog in /usr/local/lib/python3.7/dist-packages (from streamlit) (2.1.9)\n",
            "Requirement already satisfied: importlib-metadata>=1.4 in /usr/local/lib/python3.7/dist-packages (from streamlit) (4.13.0)\n",
            "Requirement already satisfied: gitpython!=3.1.19 in /usr/local/lib/python3.7/dist-packages (from streamlit) (3.1.29)\n",
            "Requirement already satisfied: cachetools>=4.0 in /usr/local/lib/python3.7/dist-packages (from streamlit) (5.2.0)\n",
            "Requirement already satisfied: validators>=0.2 in /usr/local/lib/python3.7/dist-packages (from streamlit) (0.20.0)\n",
            "Requirement already satisfied: pydeck>=0.1.dev5 in /usr/local/lib/python3.7/dist-packages (from streamlit) (0.8.0)\n",
            "Requirement already satisfied: blinker>=1.0.0 in /usr/local/lib/python3.7/dist-packages (from streamlit) (1.5)\n",
            "Requirement already satisfied: semver in /usr/local/lib/python3.7/dist-packages (from streamlit) (2.13.0)\n",
            "Requirement already satisfied: protobuf<4,>=3.12 in /usr/local/lib/python3.7/dist-packages (from streamlit) (3.19.6)\n",
            "Requirement already satisfied: requests>=2.4 in /usr/local/lib/python3.7/dist-packages (from streamlit) (2.15.1)\n",
            "Requirement already satisfied: typing-extensions>=3.10.0.0 in /usr/local/lib/python3.7/dist-packages (from streamlit) (3.10.0.2)\n",
            "Requirement already satisfied: tzlocal>=1.1 in /usr/local/lib/python3.7/dist-packages (from streamlit) (1.5.1)\n",
            "Requirement already satisfied: rich>=10.11.0 in /usr/local/lib/python3.7/dist-packages (from streamlit) (12.0.1)\n",
            "Requirement already satisfied: altair>=3.2.0 in /usr/local/lib/python3.7/dist-packages (from streamlit) (4.2.0)\n",
            "Requirement already satisfied: pympler>=0.9 in /usr/local/lib/python3.7/dist-packages (from streamlit) (1.0.1)\n",
            "Requirement already satisfied: python-dateutil in /usr/local/lib/python3.7/dist-packages (from streamlit) (2.8.2)\n",
            "Requirement already satisfied: tornado>=5.0 in /usr/local/lib/python3.7/dist-packages (from streamlit) (6.0.4)\n",
            "Requirement already satisfied: numpy in /usr/local/lib/python3.7/dist-packages (from streamlit) (1.21.6)\n",
            "Requirement already satisfied: pandas>=0.21.0 in /usr/local/lib/python3.7/dist-packages (from streamlit) (1.3.5)\n",
            "Requirement already satisfied: pyarrow>=4.0 in /usr/local/lib/python3.7/dist-packages (from streamlit) (9.0.0)\n",
            "Requirement already satisfied: pillow>=6.2.0 in /usr/local/lib/python3.7/dist-packages (from streamlit) (7.1.2)\n",
            "Requirement already satisfied: toml in /usr/local/lib/python3.7/dist-packages (from streamlit) (0.10.2)\n",
            "Requirement already satisfied: click>=7.0 in /usr/local/lib/python3.7/dist-packages (from streamlit) (7.1.2)\n",
            "Requirement already satisfied: packaging>=14.1 in /usr/local/lib/python3.7/dist-packages (from streamlit) (21.3)\n",
            "Requirement already satisfied: jinja2 in /usr/local/lib/python3.7/dist-packages (from altair>=3.2.0->streamlit) (2.11.3)\n",
            "Requirement already satisfied: jsonschema>=3.0 in /usr/local/lib/python3.7/dist-packages (from altair>=3.2.0->streamlit) (4.3.3)\n",
            "Requirement already satisfied: toolz in /usr/local/lib/python3.7/dist-packages (from altair>=3.2.0->streamlit) (0.12.0)\n",
            "Requirement already satisfied: entrypoints in /usr/local/lib/python3.7/dist-packages (from altair>=3.2.0->streamlit) (0.4)\n",
            "Requirement already satisfied: gitdb<5,>=4.0.1 in /usr/local/lib/python3.7/dist-packages (from gitpython!=3.1.19->streamlit) (4.0.10)\n",
            "Requirement already satisfied: smmap<6,>=3.0.1 in /usr/local/lib/python3.7/dist-packages (from gitdb<5,>=4.0.1->gitpython!=3.1.19->streamlit) (5.0.0)\n",
            "Requirement already satisfied: zipp>=0.5 in /usr/local/lib/python3.7/dist-packages (from importlib-metadata>=1.4->streamlit) (3.10.0)\n",
            "Requirement already satisfied: attrs>=17.4.0 in /usr/local/lib/python3.7/dist-packages (from jsonschema>=3.0->altair>=3.2.0->streamlit) (22.1.0)\n",
            "Requirement already satisfied: importlib-resources>=1.4.0 in /usr/local/lib/python3.7/dist-packages (from jsonschema>=3.0->altair>=3.2.0->streamlit) (5.10.0)\n",
            "Requirement already satisfied: pyrsistent!=0.17.0,!=0.17.1,!=0.17.2,>=0.14.0 in /usr/local/lib/python3.7/dist-packages (from jsonschema>=3.0->altair>=3.2.0->streamlit) (0.19.2)\n",
            "Requirement already satisfied: pyparsing!=3.0.5,>=2.0.2 in /usr/local/lib/python3.7/dist-packages (from packaging>=14.1->streamlit) (3.0.9)\n",
            "Requirement already satisfied: pytz>=2017.3 in /usr/local/lib/python3.7/dist-packages (from pandas>=0.21.0->streamlit) (2022.6)\n",
            "Requirement already satisfied: MarkupSafe>=0.23 in /usr/local/lib/python3.7/dist-packages (from jinja2->altair>=3.2.0->streamlit) (2.0.1)\n",
            "Requirement already satisfied: six>=1.5 in /usr/local/lib/python3.7/dist-packages (from python-dateutil->streamlit) (1.15.0)\n",
            "Requirement already satisfied: pygments<3.0.0,>=2.6.0 in /usr/local/lib/python3.7/dist-packages (from rich>=10.11.0->streamlit) (2.6.1)\n",
            "Requirement already satisfied: commonmark<0.10.0,>=0.9.0 in /usr/local/lib/python3.7/dist-packages (from rich>=10.11.0->streamlit) (0.9.1)\n",
            "Requirement already satisfied: decorator>=3.4.0 in /usr/local/lib/python3.7/dist-packages (from validators>=0.2->streamlit) (4.4.2)\n"
          ]
        }
      ]
    },
    {
      "cell_type": "code",
      "source": [
        "pip install pyPDF2"
      ],
      "metadata": {
        "id": "PZEoZ-u9SA9q",
        "colab": {
          "base_uri": "https://localhost:8080/"
        },
        "outputId": "1ef7b04e-6c7e-4b72-8073-9dba01e1f18c"
      },
      "execution_count": 4,
      "outputs": [
        {
          "output_type": "stream",
          "name": "stdout",
          "text": [
            "Looking in indexes: https://pypi.org/simple, https://us-python.pkg.dev/colab-wheels/public/simple/\n",
            "Collecting pyPDF2\n",
            "  Downloading pypdf2-2.11.2-py3-none-any.whl (220 kB)\n",
            "\u001b[K     |████████████████████████████████| 220 kB 9.4 MB/s \n",
            "\u001b[?25hRequirement already satisfied: typing_extensions>=3.10.0.0 in /usr/local/lib/python3.7/dist-packages (from pyPDF2) (3.10.0.2)\n",
            "Installing collected packages: pyPDF2\n",
            "Successfully installed pyPDF2-2.11.2\n"
          ]
        }
      ]
    },
    {
      "cell_type": "code",
      "source": [
        "pip install spacy_streamlit"
      ],
      "metadata": {
        "id": "1SxL19tBSELe",
        "colab": {
          "base_uri": "https://localhost:8080/"
        },
        "outputId": "2436b567-2261-48be-ed31-70a1e77b9066"
      },
      "execution_count": 3,
      "outputs": [
        {
          "output_type": "stream",
          "name": "stdout",
          "text": [
            "Looking in indexes: https://pypi.org/simple, https://us-python.pkg.dev/colab-wheels/public/simple/\n",
            "Collecting spacy_streamlit\n",
            "  Downloading spacy_streamlit-1.0.4-py3-none-any.whl (12 kB)\n",
            "Requirement already satisfied: pandas in /usr/local/lib/python3.7/dist-packages (from spacy_streamlit) (1.3.5)\n",
            "Requirement already satisfied: spacy<4.0.0,>=3.0.0 in /usr/local/lib/python3.7/dist-packages (from spacy_streamlit) (3.1.6)\n",
            "Collecting streamlit>=0.86.0\n",
            "  Downloading streamlit-1.15.1-py2.py3-none-any.whl (10.3 MB)\n",
            "\u001b[K     |████████████████████████████████| 10.3 MB 33.6 MB/s \n",
            "\u001b[?25hRequirement already satisfied: click<8.1.0 in /usr/local/lib/python3.7/dist-packages (from spacy<4.0.0,>=3.0.0->spacy_streamlit) (7.1.2)\n",
            "Requirement already satisfied: typing-extensions<4.0.0.0,>=3.7.4 in /usr/local/lib/python3.7/dist-packages (from spacy<4.0.0,>=3.0.0->spacy_streamlit) (3.10.0.2)\n",
            "Requirement already satisfied: jinja2 in /usr/local/lib/python3.7/dist-packages (from spacy<4.0.0,>=3.0.0->spacy_streamlit) (2.11.3)\n",
            "Requirement already satisfied: requests<3.0.0,>=2.13.0 in /usr/local/lib/python3.7/dist-packages (from spacy<4.0.0,>=3.0.0->spacy_streamlit) (2.15.1)\n",
            "Requirement already satisfied: wasabi<1.1.0,>=0.8.1 in /usr/local/lib/python3.7/dist-packages (from spacy<4.0.0,>=3.0.0->spacy_streamlit) (0.10.1)\n",
            "Requirement already satisfied: typer<0.5.0,>=0.3.0 in /usr/local/lib/python3.7/dist-packages (from spacy<4.0.0,>=3.0.0->spacy_streamlit) (0.4.2)\n",
            "Requirement already satisfied: packaging>=20.0 in /usr/local/lib/python3.7/dist-packages (from spacy<4.0.0,>=3.0.0->spacy_streamlit) (21.3)\n",
            "Requirement already satisfied: pydantic!=1.8,!=1.8.1,<1.9.0,>=1.7.4 in /usr/local/lib/python3.7/dist-packages (from spacy<4.0.0,>=3.0.0->spacy_streamlit) (1.8.2)\n",
            "Requirement already satisfied: cymem<2.1.0,>=2.0.2 in /usr/local/lib/python3.7/dist-packages (from spacy<4.0.0,>=3.0.0->spacy_streamlit) (2.0.7)\n",
            "Requirement already satisfied: srsly<3.0.0,>=2.4.1 in /usr/local/lib/python3.7/dist-packages (from spacy<4.0.0,>=3.0.0->spacy_streamlit) (2.4.5)\n",
            "Requirement already satisfied: catalogue<2.1.0,>=2.0.6 in /usr/local/lib/python3.7/dist-packages (from spacy<4.0.0,>=3.0.0->spacy_streamlit) (2.0.8)\n",
            "Requirement already satisfied: setuptools in /usr/local/lib/python3.7/dist-packages (from spacy<4.0.0,>=3.0.0->spacy_streamlit) (57.4.0)\n",
            "Requirement already satisfied: murmurhash<1.1.0,>=0.28.0 in /usr/local/lib/python3.7/dist-packages (from spacy<4.0.0,>=3.0.0->spacy_streamlit) (1.0.9)\n",
            "Requirement already satisfied: tqdm<5.0.0,>=4.38.0 in /usr/local/lib/python3.7/dist-packages (from spacy<4.0.0,>=3.0.0->spacy_streamlit) (4.64.1)\n",
            "Requirement already satisfied: numpy>=1.15.0 in /usr/local/lib/python3.7/dist-packages (from spacy<4.0.0,>=3.0.0->spacy_streamlit) (1.21.6)\n",
            "Requirement already satisfied: thinc<8.1.0,>=8.0.12 in /usr/local/lib/python3.7/dist-packages (from spacy<4.0.0,>=3.0.0->spacy_streamlit) (8.0.17)\n",
            "Requirement already satisfied: blis<0.8.0,>=0.4.0 in /usr/local/lib/python3.7/dist-packages (from spacy<4.0.0,>=3.0.0->spacy_streamlit) (0.7.9)\n",
            "Requirement already satisfied: spacy-legacy<3.1.0,>=3.0.8 in /usr/local/lib/python3.7/dist-packages (from spacy<4.0.0,>=3.0.0->spacy_streamlit) (3.0.10)\n",
            "Requirement already satisfied: preshed<3.1.0,>=3.0.2 in /usr/local/lib/python3.7/dist-packages (from spacy<4.0.0,>=3.0.0->spacy_streamlit) (3.0.8)\n",
            "Requirement already satisfied: pathy>=0.3.5 in /usr/local/lib/python3.7/dist-packages (from spacy<4.0.0,>=3.0.0->spacy_streamlit) (0.8.1)\n",
            "Requirement already satisfied: zipp>=0.5 in /usr/local/lib/python3.7/dist-packages (from catalogue<2.1.0,>=2.0.6->spacy<4.0.0,>=3.0.0->spacy_streamlit) (3.10.0)\n",
            "Requirement already satisfied: pyparsing!=3.0.5,>=2.0.2 in /usr/local/lib/python3.7/dist-packages (from packaging>=20.0->spacy<4.0.0,>=3.0.0->spacy_streamlit) (3.0.9)\n",
            "Requirement already satisfied: smart-open<6.0.0,>=5.2.1 in /usr/local/lib/python3.7/dist-packages (from pathy>=0.3.5->spacy<4.0.0,>=3.0.0->spacy_streamlit) (5.2.1)\n",
            "Collecting gitpython!=3.1.19\n",
            "  Downloading GitPython-3.1.29-py3-none-any.whl (182 kB)\n",
            "\u001b[K     |████████████████████████████████| 182 kB 33.0 MB/s \n",
            "\u001b[?25hRequirement already satisfied: cachetools>=4.0 in /usr/local/lib/python3.7/dist-packages (from streamlit>=0.86.0->spacy_streamlit) (5.2.0)\n",
            "Requirement already satisfied: protobuf<4,>=3.12 in /usr/local/lib/python3.7/dist-packages (from streamlit>=0.86.0->spacy_streamlit) (3.19.6)\n",
            "Collecting validators>=0.2\n",
            "  Downloading validators-0.20.0.tar.gz (30 kB)\n",
            "Requirement already satisfied: altair>=3.2.0 in /usr/local/lib/python3.7/dist-packages (from streamlit>=0.86.0->spacy_streamlit) (4.2.0)\n",
            "Requirement already satisfied: tzlocal>=1.1 in /usr/local/lib/python3.7/dist-packages (from streamlit>=0.86.0->spacy_streamlit) (1.5.1)\n",
            "Collecting pympler>=0.9\n",
            "  Downloading Pympler-1.0.1-py3-none-any.whl (164 kB)\n",
            "\u001b[K     |████████████████████████████████| 164 kB 68.3 MB/s \n",
            "\u001b[?25hCollecting rich>=10.11.0\n",
            "  Downloading rich-12.6.0-py3-none-any.whl (237 kB)\n",
            "\u001b[K     |████████████████████████████████| 237 kB 69.6 MB/s \n",
            "\u001b[?25hCollecting watchdog\n",
            "  Downloading watchdog-2.1.9-py3-none-manylinux2014_x86_64.whl (78 kB)\n",
            "\u001b[K     |████████████████████████████████| 78 kB 9.6 MB/s \n",
            "\u001b[?25hRequirement already satisfied: pyarrow>=4.0 in /usr/local/lib/python3.7/dist-packages (from streamlit>=0.86.0->spacy_streamlit) (9.0.0)\n",
            "Requirement already satisfied: importlib-metadata>=1.4 in /usr/local/lib/python3.7/dist-packages (from streamlit>=0.86.0->spacy_streamlit) (4.13.0)\n",
            "Collecting semver\n",
            "  Downloading semver-2.13.0-py2.py3-none-any.whl (12 kB)\n",
            "Collecting pydeck>=0.1.dev5\n",
            "  Downloading pydeck-0.8.0-py2.py3-none-any.whl (4.7 MB)\n",
            "\u001b[K     |████████████████████████████████| 4.7 MB 92.6 MB/s \n",
            "\u001b[?25hRequirement already satisfied: python-dateutil in /usr/local/lib/python3.7/dist-packages (from streamlit>=0.86.0->spacy_streamlit) (2.8.2)\n",
            "Requirement already satisfied: pillow>=6.2.0 in /usr/local/lib/python3.7/dist-packages (from streamlit>=0.86.0->spacy_streamlit) (7.1.2)\n",
            "Collecting blinker>=1.0.0\n",
            "  Downloading blinker-1.5-py2.py3-none-any.whl (12 kB)\n",
            "Requirement already satisfied: tornado>=5.0 in /usr/local/lib/python3.7/dist-packages (from streamlit>=0.86.0->spacy_streamlit) (6.0.4)\n",
            "Requirement already satisfied: toml in /usr/local/lib/python3.7/dist-packages (from streamlit>=0.86.0->spacy_streamlit) (0.10.2)\n",
            "Requirement already satisfied: entrypoints in /usr/local/lib/python3.7/dist-packages (from altair>=3.2.0->streamlit>=0.86.0->spacy_streamlit) (0.4)\n",
            "Requirement already satisfied: jsonschema>=3.0 in /usr/local/lib/python3.7/dist-packages (from altair>=3.2.0->streamlit>=0.86.0->spacy_streamlit) (4.3.3)\n",
            "Requirement already satisfied: toolz in /usr/local/lib/python3.7/dist-packages (from altair>=3.2.0->streamlit>=0.86.0->spacy_streamlit) (0.12.0)\n",
            "Collecting gitdb<5,>=4.0.1\n",
            "  Downloading gitdb-4.0.10-py3-none-any.whl (62 kB)\n",
            "\u001b[K     |████████████████████████████████| 62 kB 1.3 MB/s \n",
            "\u001b[?25hCollecting smmap<6,>=3.0.1\n",
            "  Downloading smmap-5.0.0-py3-none-any.whl (24 kB)\n",
            "Requirement already satisfied: pyrsistent!=0.17.0,!=0.17.1,!=0.17.2,>=0.14.0 in /usr/local/lib/python3.7/dist-packages (from jsonschema>=3.0->altair>=3.2.0->streamlit>=0.86.0->spacy_streamlit) (0.19.2)\n",
            "Requirement already satisfied: importlib-resources>=1.4.0 in /usr/local/lib/python3.7/dist-packages (from jsonschema>=3.0->altair>=3.2.0->streamlit>=0.86.0->spacy_streamlit) (5.10.0)\n",
            "Requirement already satisfied: attrs>=17.4.0 in /usr/local/lib/python3.7/dist-packages (from jsonschema>=3.0->altair>=3.2.0->streamlit>=0.86.0->spacy_streamlit) (22.1.0)\n",
            "Requirement already satisfied: pytz>=2017.3 in /usr/local/lib/python3.7/dist-packages (from pandas->spacy_streamlit) (2022.6)\n",
            "Requirement already satisfied: MarkupSafe>=0.23 in /usr/local/lib/python3.7/dist-packages (from jinja2->spacy<4.0.0,>=3.0.0->spacy_streamlit) (2.0.1)\n",
            "Requirement already satisfied: six>=1.5 in /usr/local/lib/python3.7/dist-packages (from python-dateutil->streamlit>=0.86.0->spacy_streamlit) (1.15.0)\n",
            "Collecting commonmark<0.10.0,>=0.9.0\n",
            "  Downloading commonmark-0.9.1-py2.py3-none-any.whl (51 kB)\n",
            "\u001b[K     |████████████████████████████████| 51 kB 9.1 MB/s \n",
            "\u001b[?25hCollecting rich>=10.11.0\n",
            "  Downloading rich-12.5.1-py3-none-any.whl (235 kB)\n",
            "\u001b[K     |████████████████████████████████| 235 kB 82.4 MB/s \n",
            "\u001b[?25h  Downloading rich-12.5.0-py3-none-any.whl (235 kB)\n",
            "\u001b[K     |████████████████████████████████| 235 kB 90.0 MB/s \n",
            "\u001b[?25h  Downloading rich-12.4.4-py3-none-any.whl (232 kB)\n",
            "\u001b[K     |████████████████████████████████| 232 kB 97.1 MB/s \n",
            "\u001b[?25h  Downloading rich-12.4.3-py3-none-any.whl (231 kB)\n",
            "\u001b[K     |████████████████████████████████| 231 kB 83.0 MB/s \n",
            "\u001b[?25h  Downloading rich-12.4.2-py3-none-any.whl (231 kB)\n",
            "\u001b[K     |████████████████████████████████| 231 kB 75.3 MB/s \n",
            "\u001b[?25h  Downloading rich-12.4.1-py3-none-any.whl (231 kB)\n",
            "\u001b[K     |████████████████████████████████| 231 kB 98.5 MB/s \n",
            "\u001b[?25h  Downloading rich-12.4.0-py3-none-any.whl (231 kB)\n",
            "\u001b[K     |████████████████████████████████| 231 kB 93.2 MB/s \n",
            "\u001b[?25h  Downloading rich-12.3.0-py3-none-any.whl (232 kB)\n",
            "\u001b[K     |████████████████████████████████| 232 kB 67.6 MB/s \n",
            "\u001b[?25h  Downloading rich-12.2.0-py3-none-any.whl (229 kB)\n",
            "\u001b[K     |████████████████████████████████| 229 kB 76.5 MB/s \n",
            "\u001b[?25h  Downloading rich-12.0.1-py3-none-any.whl (224 kB)\n",
            "\u001b[K     |████████████████████████████████| 224 kB 96.8 MB/s \n",
            "\u001b[?25hRequirement already satisfied: pygments<3.0.0,>=2.6.0 in /usr/local/lib/python3.7/dist-packages (from rich>=10.11.0->streamlit>=0.86.0->spacy_streamlit) (2.6.1)\n",
            "Requirement already satisfied: decorator>=3.4.0 in /usr/local/lib/python3.7/dist-packages (from validators>=0.2->streamlit>=0.86.0->spacy_streamlit) (4.4.2)\n",
            "Building wheels for collected packages: validators\n",
            "  Building wheel for validators (setup.py) ... \u001b[?25l\u001b[?25hdone\n",
            "  Created wheel for validators: filename=validators-0.20.0-py3-none-any.whl size=19581 sha256=b4afc17f5d2bb31b969e4624fe93967a73deb8bde44ae5db5d908a2ee6ed745f\n",
            "  Stored in directory: /root/.cache/pip/wheels/5f/55/ab/36a76989f7f88d9ca7b1f68da6d94252bb6a8d6ad4f18e04e9\n",
            "Successfully built validators\n",
            "Installing collected packages: smmap, gitdb, commonmark, watchdog, validators, semver, rich, pympler, pydeck, gitpython, blinker, streamlit, spacy-streamlit\n",
            "Successfully installed blinker-1.5 commonmark-0.9.1 gitdb-4.0.10 gitpython-3.1.29 pydeck-0.8.0 pympler-1.0.1 rich-12.0.1 semver-2.13.0 smmap-5.0.0 spacy-streamlit-1.0.4 streamlit-1.15.1 validators-0.20.0 watchdog-2.1.9\n"
          ]
        }
      ]
    },
    {
      "cell_type": "code",
      "source": [
        "pip install medspacy==0.2.0.1"
      ],
      "metadata": {
        "id": "2C6fgxaRSUPs"
      },
      "execution_count": null,
      "outputs": []
    },
    {
      "cell_type": "code",
      "source": [
        "%%writefile streamlit_app.py\n",
        "\n",
        "\n",
        "# Importing libraries\n",
        "\n",
        "import pandas as pd\n",
        "import streamlit as st\n",
        "import spacy_streamlit\n",
        "import spacy\n",
        "from spacy import displacy\n",
        "from PyPDF2 import PdfReader\n",
        "import medspacy\n",
        "from medspacy.ner import TargetRule\n",
        "from medspacy.visualization import visualize_ent\n",
        "from spacy_streamlit import visualize_parser\n",
        "\n",
        "\n",
        "st.title('Discharge Summary Extractor')\n",
        "uploaded_file = st.file_uploader(\"Choose a file\")\n",
        "\n",
        "@st.cache(allow_output_mutation=True)\n",
        "def loading_ml_model(): \n",
        "\n",
        "  #problemlist=[\"allergies\",\"asthma\",\"diabetes\"]\n",
        "  #medilist=[\"Claritin\",\"Zyrtec\",\"Ortho Tri-Cyclen\",\"Allegra\"]\n",
        "\n",
        "  #Getting disease list\n",
        "  diseasedf = pd.read_csv('/content/diseasedataset.csv')\n",
        "  diseaselist = diseasedf['diseasename'].tolist()\n",
        "  print(\"Completed loading disease dataset.\")\n",
        "\n",
        "  # Getting drug list\n",
        "  drugdf = pd.read_csv('/content/drugdataset.csv')\n",
        "  druglist = drugdf['drugName'].tolist()\n",
        "  dglist=[]\n",
        "\n",
        "  # Here we are only using 2000 drugs names as input to maintain \n",
        "  for x in druglist[:2000]:\n",
        "      dglist.append(x)\n",
        "  print(\"Completed loading drug dataset.\")\n",
        "\n",
        "  \n",
        "  # Load medspacy model\n",
        "\n",
        "  nlp = medspacy.load()\n",
        "  print(nlp.pipe_names)\n",
        "  print(\"Started adding rules to nlp model..........\")\n",
        "  # Add rules for target concept extraction\n",
        "  target_matcher = nlp.get_pipe(\"medspacy_target_matcher\")\n",
        "  for i in diseaselist:\n",
        "    for j in dglist:\n",
        "      target_rules = [\n",
        "        TargetRule(i, \"PROBLEM\"),  \n",
        "        TargetRule(j, \"MEDICATION\")\n",
        "            ]\n",
        "      target_matcher.add(target_rules)\n",
        "  print(\"Completed making rules in nlp model\")\n",
        "  return nlp\n",
        "\n",
        "def post_processing(doc):\n",
        "\n",
        "    problem_label=[]\n",
        "    medication_label=[]\n",
        "    for ent in doc.ents:\n",
        "        if ent.label_=='PROBLEM':\n",
        "          problem_label.append(ent)\n",
        "        if ent.label_=='MEDICATION':\n",
        "          medication_label.append(ent) \n",
        "    print(problem_label)\n",
        "    print(medication_label)\n",
        "    prob_len=len(problem_label)\n",
        "    med_len=len(medication_label)\n",
        "    st.subheader(\"Summary:\")\n",
        "    st.write(f\" Total number of identified diseases/problems in the file : {prob_len}\")\n",
        "    st.write(f\" Total number of identified medications prescribed in the file : {med_len}\")\n",
        "    pass\n",
        "\n",
        "if(uploaded_file is not None):\n",
        "  reader = PdfReader(uploaded_file)\n",
        "  print(\"Successfully read the file!\")\n",
        "  nlp=loading_ml_model()\n",
        "  print(\"Completed loading the NLP model.\")\n",
        "  st.markdown('**Successfully loaded NLP model.**')\n",
        "  if st.button('Extract'):\n",
        "    st.subheader('Extracted Data:')\n",
        "    st.markdown('Note: _The  first page of PDF is only considered for processing_!')\n",
        "    number_of_pages = len(reader.pages)\n",
        "    page = reader.pages[0]\n",
        "    text_data = page.extract_text()\n",
        "\n",
        "    # Processing Data with nlp model\n",
        "\n",
        "    doc = nlp(text_data)\n",
        "    print(\"Extracted the data.\")\n",
        "\n",
        "    # Adding colors to the rules\n",
        "    colors = {\"PROBLEM\": \"orange\", \"MEDICATION\": \"green\"}\n",
        "    options = {\"colors\": colors}\n",
        "    visualize_ent(doc)\n",
        "    print(\"Starting visualization of the data....\")\n",
        "\n",
        "    # Visualization of extracted data\n",
        "    html =displacy.render(doc, style=\"ent\", page=True,options=options)\n",
        "    st.components.v1.html(html, width=1000, height=1000, scrolling=True)\n",
        "    print(\"Visualization Completed.\")\n",
        "    print(\"Calling post processing function\")\n",
        "    post_processing(doc)\n",
        "     "
      ],
      "metadata": {
        "colab": {
          "base_uri": "https://localhost:8080/"
        },
        "id": "bsRekC2eSIhj",
        "outputId": "b86c625f-f865-4f1a-d332-7a44621cbdd4"
      },
      "execution_count": 31,
      "outputs": [
        {
          "output_type": "stream",
          "name": "stdout",
          "text": [
            "Overwriting streamlit_app.py\n"
          ]
        }
      ]
    },
    {
      "cell_type": "code",
      "source": [
        "!streamlit run /content/streamlit_app.py & npx localtunnel --port 8501"
      ],
      "metadata": {
        "colab": {
          "base_uri": "https://localhost:8080/"
        },
        "id": "vQQcK49uSv5t",
        "outputId": "919be109-cf3d-443a-82ce-72b9091abda9"
      },
      "execution_count": 29,
      "outputs": [
        {
          "output_type": "stream",
          "name": "stdout",
          "text": [
            "[############......] - refresh-package-json:localtunnel: timing action:finalize\u001b[0m\u001b[K\n",
            "Collecting usage statistics. To deactivate, set browser.gatherUsageStats to False.\n",
            "\u001b[0m\n",
            "\u001b[K\u001b[?25hnpx: installed 22 in 2.064s\n",
            "\u001b[0m\n",
            "\u001b[34m\u001b[1m  You can now view your Streamlit app in your browser.\u001b[0m\n",
            "\u001b[0m\n",
            "\u001b[34m  Network URL: \u001b[0m\u001b[1mhttp://172.28.0.2:8501\u001b[0m\n",
            "\u001b[34m  External URL: \u001b[0m\u001b[1mhttp://34.145.225.193:8501\u001b[0m\n",
            "\u001b[0m\n",
            "your url is: https://forty-waves-thank-34-145-225-193.loca.lt\n",
            "Successfully read the file!\n",
            "Completed loading disease dataset.\n",
            "Completed loading drug dataset.\n",
            "['medspacy_pyrush', 'medspacy_target_matcher', 'medspacy_context']\n",
            "Started adding rules to nlp model..........\n",
            "Completed making rules in nlp model\n",
            "Completed loading the NLP model.\n",
            "Successfully read the file!\n",
            "Completed loading the NLP model.\n",
            "/usr/local/lib/python3.7/dist-packages/medspacy/common/medspacy_matcher.py:80: UserWarning: [W036] The component 'matcher' does not have any patterns defined.\n",
            "  matches = self.matcher(doc)\n",
            "Extracted the data.\n",
            "<IPython.core.display.HTML object>\n",
            "Starting visualization of the data....\n",
            "Visualization Completed.\n",
            "Calling post processing function\n",
            "[Achilles tendon rupture, Adrenal cancer, Atrial fibrillation, Aplastic anemia, Autoimmune pancreatitis]\n",
            "[Levonorgestrel, L-methylfolate, Lamotrigine]\n",
            "2022-11-28 10:54:21.027 Uncaught app exception\n",
            "Traceback (most recent call last):\n",
            "  File \"/usr/local/lib/python3.7/dist-packages/streamlit/runtime/scriptrunner/script_runner.py\", line 564, in _run_script\n",
            "    exec(code, module.__dict__)\n",
            "  File \"/content/streamlit_app.py\", line 110, in <module>\n",
            "    post_processing(doc)\n",
            "  File \"/content/streamlit_app.py\", line 75, in post_processing\n",
            "    st.markdown(\"- \" + i)\n",
            "TypeError: can only concatenate str (not \"spacy.tokens.span.Span\") to str\n",
            "\u001b[34m  Stopping...\u001b[0m\n",
            "^C\n"
          ]
        }
      ]
    }
  ]
}