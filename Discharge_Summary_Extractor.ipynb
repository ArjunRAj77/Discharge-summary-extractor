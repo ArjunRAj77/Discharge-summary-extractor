{
  "nbformat": 4,
  "nbformat_minor": 0,
  "metadata": {
    "colab": {
      "provenance": [],
      "include_colab_link": true
    },
    "kernelspec": {
      "name": "python3",
      "display_name": "Python 3"
    },
    "language_info": {
      "name": "python"
    }
  },
  "cells": [
    {
      "cell_type": "markdown",
      "metadata": {
        "id": "view-in-github",
        "colab_type": "text"
      },
      "source": [
        "<a href=\"https://colab.research.google.com/github/ArjunRAj77/Discharge-summary-extractor/blob/main/Discharge_Summary_Extractor.ipynb\" target=\"_parent\"><img src=\"https://colab.research.google.com/assets/colab-badge.svg\" alt=\"Open In Colab\"/></a>"
      ]
    },
    {
      "cell_type": "code",
      "source": [
        "pip install ngrok"
      ],
      "metadata": {
        "id": "XUlRcnVJRyzn",
        "colab": {
          "base_uri": "https://localhost:8080/"
        },
        "outputId": "714d89c8-26e1-4bf9-e620-0eec2c8a222f"
      },
      "execution_count": 1,
      "outputs": [
        {
          "output_type": "stream",
          "name": "stdout",
          "text": [
            "Looking in indexes: https://pypi.org/simple, https://us-python.pkg.dev/colab-wheels/public/simple/\n",
            "Collecting ngrok\n",
            "  Downloading ngrok-0.1.6.tar.gz (3.5 kB)\n",
            "Collecting ping\n",
            "  Downloading ping-0.2.tar.gz (10 kB)\n",
            "\u001b[33mWARNING: Discarding https://files.pythonhosted.org/packages/03/ac/9a3f332f8d7d27cd8929922b2e225842c1623760364b37fc79dc0f65e77d/ping-0.2.tar.gz#sha256=ecb32294c2af8ae075de4a3743f568db376480ad81c2e010a7f1ce1cee7b030f (from https://pypi.org/simple/ping/). Command errored out with exit status 1: python setup.py egg_info Check the logs for full command output.\u001b[0m\n",
            "  Downloading ping-0.1.tar.gz (10 kB)\n",
            "\u001b[33mWARNING: Discarding https://files.pythonhosted.org/packages/e6/e1/0d6a865e59fc27e13c0f39afea889f34a62b209046bfb863b62b614e5a3a/ping-0.1.tar.gz#sha256=e86c646487241be6e44262b182f0fbfdc2c00f2a4a0b7b3f0c499137957d81c1 (from https://pypi.org/simple/ping/). Command errored out with exit status 1: python setup.py egg_info Check the logs for full command output.\u001b[0m\n",
            "Collecting ngrok\n",
            "  Downloading ngrok-0.1.5.tar.gz (3.5 kB)\n",
            "  Downloading ngrok-0.1.4-py3-none-any.whl (4.3 kB)\n",
            "  Downloading ngrok-0.0.1.tar.gz (1.4 kB)\n",
            "Building wheels for collected packages: ngrok\n",
            "  Building wheel for ngrok (setup.py) ... \u001b[?25l\u001b[?25hdone\n",
            "  Created wheel for ngrok: filename=ngrok-0.0.1-py3-none-any.whl size=3060 sha256=4280b007ee18ac5d4d9d806a310c3d12baf5c0d2b9dcc9deffa210436d4eb614\n",
            "  Stored in directory: /root/.cache/pip/wheels/b2/f2/1e/11e57b35a7c1ea622a4cff4d9622bebd373f6371f3b1728a00\n",
            "Successfully built ngrok\n",
            "Installing collected packages: ngrok\n",
            "Successfully installed ngrok-0.0.1\n"
          ]
        }
      ]
    },
    {
      "cell_type": "code",
      "source": [
        "!./ngrok authtokens 2I25bavkwHYELR9tekrQDh8hpX7_e4JXyMTiF1UdcvBXdF7n"
      ],
      "metadata": {
        "colab": {
          "base_uri": "https://localhost:8080/"
        },
        "id": "5rWUupGgR2t5",
        "outputId": "2fe64562-cd4d-47c5-a5f9-39f2722675b6"
      },
      "execution_count": 4,
      "outputs": [
        {
          "output_type": "stream",
          "name": "stdout",
          "text": [
            "/bin/bash: ./ngrok: No such file or directory\n"
          ]
        }
      ]
    },
    {
      "cell_type": "code",
      "source": [
        "!pip install pyngrok"
      ],
      "metadata": {
        "id": "mma6RTWWR5LE",
        "colab": {
          "base_uri": "https://localhost:8080/"
        },
        "outputId": "0016787b-0e78-42f9-86ce-4ef249f7d6c0"
      },
      "execution_count": 3,
      "outputs": [
        {
          "output_type": "stream",
          "name": "stdout",
          "text": [
            "Looking in indexes: https://pypi.org/simple, https://us-python.pkg.dev/colab-wheels/public/simple/\n",
            "Collecting pyngrok\n",
            "  Downloading pyngrok-5.1.0.tar.gz (745 kB)\n",
            "\u001b[K     |████████████████████████████████| 745 kB 23.3 MB/s \n",
            "\u001b[?25hRequirement already satisfied: PyYAML in /usr/local/lib/python3.7/dist-packages (from pyngrok) (6.0)\n",
            "Building wheels for collected packages: pyngrok\n",
            "  Building wheel for pyngrok (setup.py) ... \u001b[?25l\u001b[?25hdone\n",
            "  Created wheel for pyngrok: filename=pyngrok-5.1.0-py3-none-any.whl size=19006 sha256=3f011be97291498e9b277a01125b39d3b66336247c2022c8dc59d20101021031\n",
            "  Stored in directory: /root/.cache/pip/wheels/bf/e6/af/ccf6598ecefecd44104069371795cb9b3afbcd16987f6ccfb3\n",
            "Successfully built pyngrok\n",
            "Installing collected packages: pyngrok\n",
            "Successfully installed pyngrok-5.1.0\n"
          ]
        }
      ]
    },
    {
      "cell_type": "code",
      "source": [
        "from pyngrok import ngrok\n",
        "public_url = ngrok.connect(port='8501')\n",
        "public_url"
      ],
      "metadata": {
        "id": "bphD3AQtR7h0",
        "colab": {
          "base_uri": "https://localhost:8080/"
        },
        "outputId": "fca3b48a-31da-48a7-a953-4736e5fc2337"
      },
      "execution_count": 5,
      "outputs": [
        {
          "output_type": "stream",
          "name": "stdout",
          "text": []
        },
        {
          "output_type": "execute_result",
          "data": {
            "text/plain": [
              "<NgrokTunnel: \"http://3763-35-199-31-98.ngrok.io\" -> \"http://localhost:80\">"
            ]
          },
          "metadata": {},
          "execution_count": 5
        }
      ]
    },
    {
      "cell_type": "code",
      "source": [
        "pip install streamlit"
      ],
      "metadata": {
        "id": "HofzNGHuR98Y",
        "colab": {
          "base_uri": "https://localhost:8080/"
        },
        "outputId": "2c203827-2265-4de1-c1b3-f944334771bb"
      },
      "execution_count": 6,
      "outputs": [
        {
          "output_type": "stream",
          "name": "stdout",
          "text": [
            "Looking in indexes: https://pypi.org/simple, https://us-python.pkg.dev/colab-wheels/public/simple/\n",
            "Collecting streamlit\n",
            "  Downloading streamlit-1.15.1-py2.py3-none-any.whl (10.3 MB)\n",
            "\u001b[K     |████████████████████████████████| 10.3 MB 11.5 MB/s \n",
            "\u001b[?25hCollecting blinker>=1.0.0\n",
            "  Downloading blinker-1.5-py2.py3-none-any.whl (12 kB)\n",
            "Requirement already satisfied: tornado>=5.0 in /usr/local/lib/python3.7/dist-packages (from streamlit) (6.0.4)\n",
            "Collecting pydeck>=0.1.dev5\n",
            "  Downloading pydeck-0.8.0-py2.py3-none-any.whl (4.7 MB)\n",
            "\u001b[K     |████████████████████████████████| 4.7 MB 35.4 MB/s \n",
            "\u001b[?25hRequirement already satisfied: requests>=2.4 in /usr/local/lib/python3.7/dist-packages (from streamlit) (2.23.0)\n",
            "Requirement already satisfied: typing-extensions>=3.10.0.0 in /usr/local/lib/python3.7/dist-packages (from streamlit) (4.1.1)\n",
            "Requirement already satisfied: altair>=3.2.0 in /usr/local/lib/python3.7/dist-packages (from streamlit) (4.2.0)\n",
            "Requirement already satisfied: pyarrow>=4.0 in /usr/local/lib/python3.7/dist-packages (from streamlit) (9.0.0)\n",
            "Collecting watchdog\n",
            "  Downloading watchdog-2.1.9-py3-none-manylinux2014_x86_64.whl (78 kB)\n",
            "\u001b[K     |████████████████████████████████| 78 kB 3.6 MB/s \n",
            "\u001b[?25hCollecting gitpython!=3.1.19\n",
            "  Downloading GitPython-3.1.29-py3-none-any.whl (182 kB)\n",
            "\u001b[K     |████████████████████████████████| 182 kB 59.4 MB/s \n",
            "\u001b[?25hCollecting pympler>=0.9\n",
            "  Downloading Pympler-1.0.1-py3-none-any.whl (164 kB)\n",
            "\u001b[K     |████████████████████████████████| 164 kB 55.3 MB/s \n",
            "\u001b[?25hCollecting validators>=0.2\n",
            "  Downloading validators-0.20.0.tar.gz (30 kB)\n",
            "Requirement already satisfied: protobuf<4,>=3.12 in /usr/local/lib/python3.7/dist-packages (from streamlit) (3.19.6)\n",
            "Requirement already satisfied: packaging>=14.1 in /usr/local/lib/python3.7/dist-packages (from streamlit) (21.3)\n",
            "Requirement already satisfied: tzlocal>=1.1 in /usr/local/lib/python3.7/dist-packages (from streamlit) (1.5.1)\n",
            "Requirement already satisfied: cachetools>=4.0 in /usr/local/lib/python3.7/dist-packages (from streamlit) (5.2.0)\n",
            "Collecting semver\n",
            "  Downloading semver-2.13.0-py2.py3-none-any.whl (12 kB)\n",
            "Requirement already satisfied: python-dateutil in /usr/local/lib/python3.7/dist-packages (from streamlit) (2.8.2)\n",
            "Requirement already satisfied: pillow>=6.2.0 in /usr/local/lib/python3.7/dist-packages (from streamlit) (7.1.2)\n",
            "Requirement already satisfied: click>=7.0 in /usr/local/lib/python3.7/dist-packages (from streamlit) (7.1.2)\n",
            "Requirement already satisfied: importlib-metadata>=1.4 in /usr/local/lib/python3.7/dist-packages (from streamlit) (4.13.0)\n",
            "Requirement already satisfied: pandas>=0.21.0 in /usr/local/lib/python3.7/dist-packages (from streamlit) (1.3.5)\n",
            "Requirement already satisfied: numpy in /usr/local/lib/python3.7/dist-packages (from streamlit) (1.21.6)\n",
            "Collecting rich>=10.11.0\n",
            "  Downloading rich-12.6.0-py3-none-any.whl (237 kB)\n",
            "\u001b[K     |████████████████████████████████| 237 kB 50.4 MB/s \n",
            "\u001b[?25hRequirement already satisfied: toml in /usr/local/lib/python3.7/dist-packages (from streamlit) (0.10.2)\n",
            "Requirement already satisfied: jsonschema>=3.0 in /usr/local/lib/python3.7/dist-packages (from altair>=3.2.0->streamlit) (4.3.3)\n",
            "Requirement already satisfied: toolz in /usr/local/lib/python3.7/dist-packages (from altair>=3.2.0->streamlit) (0.12.0)\n",
            "Requirement already satisfied: entrypoints in /usr/local/lib/python3.7/dist-packages (from altair>=3.2.0->streamlit) (0.4)\n",
            "Requirement already satisfied: jinja2 in /usr/local/lib/python3.7/dist-packages (from altair>=3.2.0->streamlit) (2.11.3)\n",
            "Collecting gitdb<5,>=4.0.1\n",
            "  Downloading gitdb-4.0.10-py3-none-any.whl (62 kB)\n",
            "\u001b[K     |████████████████████████████████| 62 kB 1.6 MB/s \n",
            "\u001b[?25hCollecting smmap<6,>=3.0.1\n",
            "  Downloading smmap-5.0.0-py3-none-any.whl (24 kB)\n",
            "Requirement already satisfied: zipp>=0.5 in /usr/local/lib/python3.7/dist-packages (from importlib-metadata>=1.4->streamlit) (3.10.0)\n",
            "Requirement already satisfied: attrs>=17.4.0 in /usr/local/lib/python3.7/dist-packages (from jsonschema>=3.0->altair>=3.2.0->streamlit) (22.1.0)\n",
            "Requirement already satisfied: importlib-resources>=1.4.0 in /usr/local/lib/python3.7/dist-packages (from jsonschema>=3.0->altair>=3.2.0->streamlit) (5.10.0)\n",
            "Requirement already satisfied: pyrsistent!=0.17.0,!=0.17.1,!=0.17.2,>=0.14.0 in /usr/local/lib/python3.7/dist-packages (from jsonschema>=3.0->altair>=3.2.0->streamlit) (0.19.2)\n",
            "Requirement already satisfied: pyparsing!=3.0.5,>=2.0.2 in /usr/local/lib/python3.7/dist-packages (from packaging>=14.1->streamlit) (3.0.9)\n",
            "Requirement already satisfied: pytz>=2017.3 in /usr/local/lib/python3.7/dist-packages (from pandas>=0.21.0->streamlit) (2022.6)\n",
            "Requirement already satisfied: MarkupSafe>=0.23 in /usr/local/lib/python3.7/dist-packages (from jinja2->altair>=3.2.0->streamlit) (2.0.1)\n",
            "Requirement already satisfied: six>=1.5 in /usr/local/lib/python3.7/dist-packages (from python-dateutil->streamlit) (1.15.0)\n",
            "Requirement already satisfied: idna<3,>=2.5 in /usr/local/lib/python3.7/dist-packages (from requests>=2.4->streamlit) (2.10)\n",
            "Requirement already satisfied: certifi>=2017.4.17 in /usr/local/lib/python3.7/dist-packages (from requests>=2.4->streamlit) (2022.9.24)\n",
            "Requirement already satisfied: urllib3!=1.25.0,!=1.25.1,<1.26,>=1.21.1 in /usr/local/lib/python3.7/dist-packages (from requests>=2.4->streamlit) (1.24.3)\n",
            "Requirement already satisfied: chardet<4,>=3.0.2 in /usr/local/lib/python3.7/dist-packages (from requests>=2.4->streamlit) (3.0.4)\n",
            "Collecting commonmark<0.10.0,>=0.9.0\n",
            "  Downloading commonmark-0.9.1-py2.py3-none-any.whl (51 kB)\n",
            "\u001b[K     |████████████████████████████████| 51 kB 7.9 MB/s \n",
            "\u001b[?25hRequirement already satisfied: pygments<3.0.0,>=2.6.0 in /usr/local/lib/python3.7/dist-packages (from rich>=10.11.0->streamlit) (2.6.1)\n",
            "Requirement already satisfied: decorator>=3.4.0 in /usr/local/lib/python3.7/dist-packages (from validators>=0.2->streamlit) (4.4.2)\n",
            "Building wheels for collected packages: validators\n",
            "  Building wheel for validators (setup.py) ... \u001b[?25l\u001b[?25hdone\n",
            "  Created wheel for validators: filename=validators-0.20.0-py3-none-any.whl size=19581 sha256=d9d3718781a8c151d71c36c44777519b75f49cd16b29d9953b46af02abe2de46\n",
            "  Stored in directory: /root/.cache/pip/wheels/5f/55/ab/36a76989f7f88d9ca7b1f68da6d94252bb6a8d6ad4f18e04e9\n",
            "Successfully built validators\n",
            "Installing collected packages: smmap, gitdb, commonmark, watchdog, validators, semver, rich, pympler, pydeck, gitpython, blinker, streamlit\n",
            "Successfully installed blinker-1.5 commonmark-0.9.1 gitdb-4.0.10 gitpython-3.1.29 pydeck-0.8.0 pympler-1.0.1 rich-12.6.0 semver-2.13.0 smmap-5.0.0 streamlit-1.15.1 validators-0.20.0 watchdog-2.1.9\n"
          ]
        }
      ]
    },
    {
      "cell_type": "code",
      "source": [
        "pip install pyPDF2"
      ],
      "metadata": {
        "id": "PZEoZ-u9SA9q",
        "colab": {
          "base_uri": "https://localhost:8080/"
        },
        "outputId": "8b4136a3-a842-48c9-ba8f-dfb7b28a476a"
      },
      "execution_count": 7,
      "outputs": [
        {
          "output_type": "stream",
          "name": "stdout",
          "text": [
            "Looking in indexes: https://pypi.org/simple, https://us-python.pkg.dev/colab-wheels/public/simple/\n",
            "Collecting pyPDF2\n",
            "  Downloading pypdf2-2.11.2-py3-none-any.whl (220 kB)\n",
            "\u001b[K     |████████████████████████████████| 220 kB 28.6 MB/s \n",
            "\u001b[?25hRequirement already satisfied: typing_extensions>=3.10.0.0 in /usr/local/lib/python3.7/dist-packages (from pyPDF2) (4.1.1)\n",
            "Installing collected packages: pyPDF2\n",
            "Successfully installed pyPDF2-2.11.2\n"
          ]
        }
      ]
    },
    {
      "cell_type": "code",
      "source": [
        "pip install spacy_streamlit"
      ],
      "metadata": {
        "id": "1SxL19tBSELe",
        "colab": {
          "base_uri": "https://localhost:8080/"
        },
        "outputId": "b17c96cf-dee6-4b91-b061-0652e91e7e70"
      },
      "execution_count": 8,
      "outputs": [
        {
          "output_type": "stream",
          "name": "stdout",
          "text": [
            "Looking in indexes: https://pypi.org/simple, https://us-python.pkg.dev/colab-wheels/public/simple/\n",
            "Collecting spacy_streamlit\n",
            "  Downloading spacy_streamlit-1.0.4-py3-none-any.whl (12 kB)\n",
            "Requirement already satisfied: pandas in /usr/local/lib/python3.7/dist-packages (from spacy_streamlit) (1.3.5)\n",
            "Requirement already satisfied: streamlit>=0.86.0 in /usr/local/lib/python3.7/dist-packages (from spacy_streamlit) (1.15.1)\n",
            "Requirement already satisfied: spacy<4.0.0,>=3.0.0 in /usr/local/lib/python3.7/dist-packages (from spacy_streamlit) (3.4.3)\n",
            "Requirement already satisfied: pathy>=0.3.5 in /usr/local/lib/python3.7/dist-packages (from spacy<4.0.0,>=3.0.0->spacy_streamlit) (0.8.1)\n",
            "Requirement already satisfied: tqdm<5.0.0,>=4.38.0 in /usr/local/lib/python3.7/dist-packages (from spacy<4.0.0,>=3.0.0->spacy_streamlit) (4.64.1)\n",
            "Requirement already satisfied: numpy>=1.15.0 in /usr/local/lib/python3.7/dist-packages (from spacy<4.0.0,>=3.0.0->spacy_streamlit) (1.21.6)\n",
            "Requirement already satisfied: requests<3.0.0,>=2.13.0 in /usr/local/lib/python3.7/dist-packages (from spacy<4.0.0,>=3.0.0->spacy_streamlit) (2.23.0)\n",
            "Requirement already satisfied: thinc<8.2.0,>=8.1.0 in /usr/local/lib/python3.7/dist-packages (from spacy<4.0.0,>=3.0.0->spacy_streamlit) (8.1.5)\n",
            "Requirement already satisfied: jinja2 in /usr/local/lib/python3.7/dist-packages (from spacy<4.0.0,>=3.0.0->spacy_streamlit) (2.11.3)\n",
            "Requirement already satisfied: packaging>=20.0 in /usr/local/lib/python3.7/dist-packages (from spacy<4.0.0,>=3.0.0->spacy_streamlit) (21.3)\n",
            "Requirement already satisfied: cymem<2.1.0,>=2.0.2 in /usr/local/lib/python3.7/dist-packages (from spacy<4.0.0,>=3.0.0->spacy_streamlit) (2.0.7)\n",
            "Requirement already satisfied: typer<0.8.0,>=0.3.0 in /usr/local/lib/python3.7/dist-packages (from spacy<4.0.0,>=3.0.0->spacy_streamlit) (0.7.0)\n",
            "Requirement already satisfied: catalogue<2.1.0,>=2.0.6 in /usr/local/lib/python3.7/dist-packages (from spacy<4.0.0,>=3.0.0->spacy_streamlit) (2.0.8)\n",
            "Requirement already satisfied: pydantic!=1.8,!=1.8.1,<1.11.0,>=1.7.4 in /usr/local/lib/python3.7/dist-packages (from spacy<4.0.0,>=3.0.0->spacy_streamlit) (1.10.2)\n",
            "Requirement already satisfied: setuptools in /usr/local/lib/python3.7/dist-packages (from spacy<4.0.0,>=3.0.0->spacy_streamlit) (57.4.0)\n",
            "Requirement already satisfied: murmurhash<1.1.0,>=0.28.0 in /usr/local/lib/python3.7/dist-packages (from spacy<4.0.0,>=3.0.0->spacy_streamlit) (1.0.9)\n",
            "Requirement already satisfied: langcodes<4.0.0,>=3.2.0 in /usr/local/lib/python3.7/dist-packages (from spacy<4.0.0,>=3.0.0->spacy_streamlit) (3.3.0)\n",
            "Requirement already satisfied: typing-extensions<4.2.0,>=3.7.4 in /usr/local/lib/python3.7/dist-packages (from spacy<4.0.0,>=3.0.0->spacy_streamlit) (4.1.1)\n",
            "Requirement already satisfied: spacy-legacy<3.1.0,>=3.0.10 in /usr/local/lib/python3.7/dist-packages (from spacy<4.0.0,>=3.0.0->spacy_streamlit) (3.0.10)\n",
            "Requirement already satisfied: wasabi<1.1.0,>=0.9.1 in /usr/local/lib/python3.7/dist-packages (from spacy<4.0.0,>=3.0.0->spacy_streamlit) (0.10.1)\n",
            "Requirement already satisfied: srsly<3.0.0,>=2.4.3 in /usr/local/lib/python3.7/dist-packages (from spacy<4.0.0,>=3.0.0->spacy_streamlit) (2.4.5)\n",
            "Requirement already satisfied: spacy-loggers<2.0.0,>=1.0.0 in /usr/local/lib/python3.7/dist-packages (from spacy<4.0.0,>=3.0.0->spacy_streamlit) (1.0.3)\n",
            "Requirement already satisfied: preshed<3.1.0,>=3.0.2 in /usr/local/lib/python3.7/dist-packages (from spacy<4.0.0,>=3.0.0->spacy_streamlit) (3.0.8)\n",
            "Requirement already satisfied: zipp>=0.5 in /usr/local/lib/python3.7/dist-packages (from catalogue<2.1.0,>=2.0.6->spacy<4.0.0,>=3.0.0->spacy_streamlit) (3.10.0)\n",
            "Requirement already satisfied: pyparsing!=3.0.5,>=2.0.2 in /usr/local/lib/python3.7/dist-packages (from packaging>=20.0->spacy<4.0.0,>=3.0.0->spacy_streamlit) (3.0.9)\n",
            "Requirement already satisfied: smart-open<6.0.0,>=5.2.1 in /usr/local/lib/python3.7/dist-packages (from pathy>=0.3.5->spacy<4.0.0,>=3.0.0->spacy_streamlit) (5.2.1)\n",
            "Requirement already satisfied: chardet<4,>=3.0.2 in /usr/local/lib/python3.7/dist-packages (from requests<3.0.0,>=2.13.0->spacy<4.0.0,>=3.0.0->spacy_streamlit) (3.0.4)\n",
            "Requirement already satisfied: urllib3!=1.25.0,!=1.25.1,<1.26,>=1.21.1 in /usr/local/lib/python3.7/dist-packages (from requests<3.0.0,>=2.13.0->spacy<4.0.0,>=3.0.0->spacy_streamlit) (1.24.3)\n",
            "Requirement already satisfied: idna<3,>=2.5 in /usr/local/lib/python3.7/dist-packages (from requests<3.0.0,>=2.13.0->spacy<4.0.0,>=3.0.0->spacy_streamlit) (2.10)\n",
            "Requirement already satisfied: certifi>=2017.4.17 in /usr/local/lib/python3.7/dist-packages (from requests<3.0.0,>=2.13.0->spacy<4.0.0,>=3.0.0->spacy_streamlit) (2022.9.24)\n",
            "Requirement already satisfied: tzlocal>=1.1 in /usr/local/lib/python3.7/dist-packages (from streamlit>=0.86.0->spacy_streamlit) (1.5.1)\n",
            "Requirement already satisfied: validators>=0.2 in /usr/local/lib/python3.7/dist-packages (from streamlit>=0.86.0->spacy_streamlit) (0.20.0)\n",
            "Requirement already satisfied: tornado>=5.0 in /usr/local/lib/python3.7/dist-packages (from streamlit>=0.86.0->spacy_streamlit) (6.0.4)\n",
            "Requirement already satisfied: pillow>=6.2.0 in /usr/local/lib/python3.7/dist-packages (from streamlit>=0.86.0->spacy_streamlit) (7.1.2)\n",
            "Requirement already satisfied: protobuf<4,>=3.12 in /usr/local/lib/python3.7/dist-packages (from streamlit>=0.86.0->spacy_streamlit) (3.19.6)\n",
            "Requirement already satisfied: cachetools>=4.0 in /usr/local/lib/python3.7/dist-packages (from streamlit>=0.86.0->spacy_streamlit) (5.2.0)\n",
            "Requirement already satisfied: toml in /usr/local/lib/python3.7/dist-packages (from streamlit>=0.86.0->spacy_streamlit) (0.10.2)\n",
            "Requirement already satisfied: pympler>=0.9 in /usr/local/lib/python3.7/dist-packages (from streamlit>=0.86.0->spacy_streamlit) (1.0.1)\n",
            "Requirement already satisfied: watchdog in /usr/local/lib/python3.7/dist-packages (from streamlit>=0.86.0->spacy_streamlit) (2.1.9)\n",
            "Requirement already satisfied: python-dateutil in /usr/local/lib/python3.7/dist-packages (from streamlit>=0.86.0->spacy_streamlit) (2.8.2)\n",
            "Requirement already satisfied: gitpython!=3.1.19 in /usr/local/lib/python3.7/dist-packages (from streamlit>=0.86.0->spacy_streamlit) (3.1.29)\n",
            "Requirement already satisfied: pyarrow>=4.0 in /usr/local/lib/python3.7/dist-packages (from streamlit>=0.86.0->spacy_streamlit) (9.0.0)\n",
            "Requirement already satisfied: click>=7.0 in /usr/local/lib/python3.7/dist-packages (from streamlit>=0.86.0->spacy_streamlit) (7.1.2)\n",
            "Requirement already satisfied: semver in /usr/local/lib/python3.7/dist-packages (from streamlit>=0.86.0->spacy_streamlit) (2.13.0)\n",
            "Requirement already satisfied: blinker>=1.0.0 in /usr/local/lib/python3.7/dist-packages (from streamlit>=0.86.0->spacy_streamlit) (1.5)\n",
            "Requirement already satisfied: importlib-metadata>=1.4 in /usr/local/lib/python3.7/dist-packages (from streamlit>=0.86.0->spacy_streamlit) (4.13.0)\n",
            "Requirement already satisfied: altair>=3.2.0 in /usr/local/lib/python3.7/dist-packages (from streamlit>=0.86.0->spacy_streamlit) (4.2.0)\n",
            "Requirement already satisfied: rich>=10.11.0 in /usr/local/lib/python3.7/dist-packages (from streamlit>=0.86.0->spacy_streamlit) (12.6.0)\n",
            "Requirement already satisfied: pydeck>=0.1.dev5 in /usr/local/lib/python3.7/dist-packages (from streamlit>=0.86.0->spacy_streamlit) (0.8.0)\n",
            "Requirement already satisfied: toolz in /usr/local/lib/python3.7/dist-packages (from altair>=3.2.0->streamlit>=0.86.0->spacy_streamlit) (0.12.0)\n",
            "Requirement already satisfied: entrypoints in /usr/local/lib/python3.7/dist-packages (from altair>=3.2.0->streamlit>=0.86.0->spacy_streamlit) (0.4)\n",
            "Requirement already satisfied: jsonschema>=3.0 in /usr/local/lib/python3.7/dist-packages (from altair>=3.2.0->streamlit>=0.86.0->spacy_streamlit) (4.3.3)\n",
            "Requirement already satisfied: gitdb<5,>=4.0.1 in /usr/local/lib/python3.7/dist-packages (from gitpython!=3.1.19->streamlit>=0.86.0->spacy_streamlit) (4.0.10)\n",
            "Requirement already satisfied: smmap<6,>=3.0.1 in /usr/local/lib/python3.7/dist-packages (from gitdb<5,>=4.0.1->gitpython!=3.1.19->streamlit>=0.86.0->spacy_streamlit) (5.0.0)\n",
            "Requirement already satisfied: importlib-resources>=1.4.0 in /usr/local/lib/python3.7/dist-packages (from jsonschema>=3.0->altair>=3.2.0->streamlit>=0.86.0->spacy_streamlit) (5.10.0)\n",
            "Requirement already satisfied: pyrsistent!=0.17.0,!=0.17.1,!=0.17.2,>=0.14.0 in /usr/local/lib/python3.7/dist-packages (from jsonschema>=3.0->altair>=3.2.0->streamlit>=0.86.0->spacy_streamlit) (0.19.2)\n",
            "Requirement already satisfied: attrs>=17.4.0 in /usr/local/lib/python3.7/dist-packages (from jsonschema>=3.0->altair>=3.2.0->streamlit>=0.86.0->spacy_streamlit) (22.1.0)\n",
            "Requirement already satisfied: pytz>=2017.3 in /usr/local/lib/python3.7/dist-packages (from pandas->spacy_streamlit) (2022.6)\n",
            "Requirement already satisfied: MarkupSafe>=0.23 in /usr/local/lib/python3.7/dist-packages (from jinja2->spacy<4.0.0,>=3.0.0->spacy_streamlit) (2.0.1)\n",
            "Requirement already satisfied: six>=1.5 in /usr/local/lib/python3.7/dist-packages (from python-dateutil->streamlit>=0.86.0->spacy_streamlit) (1.15.0)\n",
            "Requirement already satisfied: commonmark<0.10.0,>=0.9.0 in /usr/local/lib/python3.7/dist-packages (from rich>=10.11.0->streamlit>=0.86.0->spacy_streamlit) (0.9.1)\n",
            "Requirement already satisfied: pygments<3.0.0,>=2.6.0 in /usr/local/lib/python3.7/dist-packages (from rich>=10.11.0->streamlit>=0.86.0->spacy_streamlit) (2.6.1)\n",
            "Requirement already satisfied: blis<0.8.0,>=0.7.8 in /usr/local/lib/python3.7/dist-packages (from thinc<8.2.0,>=8.1.0->spacy<4.0.0,>=3.0.0->spacy_streamlit) (0.7.9)\n",
            "Requirement already satisfied: confection<1.0.0,>=0.0.1 in /usr/local/lib/python3.7/dist-packages (from thinc<8.2.0,>=8.1.0->spacy<4.0.0,>=3.0.0->spacy_streamlit) (0.0.3)\n",
            "Requirement already satisfied: decorator>=3.4.0 in /usr/local/lib/python3.7/dist-packages (from validators>=0.2->streamlit>=0.86.0->spacy_streamlit) (4.4.2)\n",
            "Installing collected packages: spacy-streamlit\n",
            "Successfully installed spacy-streamlit-1.0.4\n"
          ]
        }
      ]
    },
    {
      "cell_type": "code",
      "source": [
        "pip install medspacy==0.2.0.1"
      ],
      "metadata": {
        "id": "2C6fgxaRSUPs",
        "colab": {
          "base_uri": "https://localhost:8080/",
          "height": 1000
        },
        "outputId": "69c1bb1e-f4c1-4f39-cef9-45df49846b1e"
      },
      "execution_count": 10,
      "outputs": [
        {
          "output_type": "stream",
          "name": "stdout",
          "text": [
            "Looking in indexes: https://pypi.org/simple, https://us-python.pkg.dev/colab-wheels/public/simple/\n",
            "Collecting medspacy==0.2.0.1\n",
            "  Downloading medspacy-0.2.0.1.tar.gz (113 kB)\n",
            "\u001b[K     |████████████████████████████████| 113 kB 26.5 MB/s \n",
            "\u001b[?25hCollecting spacy<3.2.0,>=3.1.3\n",
            "  Downloading spacy-3.1.6-cp37-cp37m-manylinux_2_17_x86_64.manylinux2014_x86_64.whl (5.9 MB)\n",
            "\u001b[K     |████████████████████████████████| 5.9 MB 49.9 MB/s \n",
            "\u001b[?25hCollecting PyRuSH<=1.0.3.6,>=1.0.3.5\n",
            "  Downloading PyRuSH-1.0.3.6-cp37-cp37m-manylinux_2_5_x86_64.manylinux1_x86_64.manylinux_2_17_x86_64.manylinux2014_x86_64.whl (69 kB)\n",
            "\u001b[K     |████████████████████████████████| 69 kB 6.1 MB/s \n",
            "\u001b[?25hCollecting pysbd==0.3.4\n",
            "  Downloading pysbd-0.3.4-py3-none-any.whl (71 kB)\n",
            "\u001b[K     |████████████████████████████████| 71 kB 9.2 MB/s \n",
            "\u001b[?25hRequirement already satisfied: jsonschema in /usr/local/lib/python3.7/dist-packages (from medspacy==0.2.0.1) (4.3.3)\n",
            "Collecting requests<2.16,>=2.13.0\n",
            "  Downloading requests-2.15.1-py2.py3-none-any.whl (558 kB)\n",
            "\u001b[K     |████████████████████████████████| 558 kB 46.9 MB/s \n",
            "\u001b[?25hRequirement already satisfied: six>=1.14.0 in /usr/local/lib/python3.7/dist-packages (from medspacy==0.2.0.1) (1.15.0)\n",
            "Collecting medspacy_quickumls>=2.4.1\n",
            "  Downloading medspacy_quickumls-2.6-py3-none-any.whl (31 kB)\n",
            "Collecting leveldb>=0.193\n",
            "  Downloading leveldb-0.201.tar.gz (236 kB)\n",
            "\u001b[K     |████████████████████████████████| 236 kB 48.7 MB/s \n",
            "\u001b[?25hRequirement already satisfied: numpy>=1.8.2 in /usr/local/lib/python3.7/dist-packages (from medspacy_quickumls>=2.4.1->medspacy==0.2.0.1) (1.21.6)\n",
            "Collecting medspacy-simstring>=2.1\n",
            "  Downloading medspacy_simstring-2.1.tar.gz (68 kB)\n",
            "\u001b[K     |████████████████████████████████| 68 kB 6.9 MB/s \n",
            "\u001b[?25hRequirement already satisfied: nltk>=3.3 in /usr/local/lib/python3.7/dist-packages (from medspacy_quickumls>=2.4.1->medspacy==0.2.0.1) (3.7)\n",
            "Collecting unqlite>=0.8.1\n",
            "  Downloading unqlite-0.9.3.tar.gz (575 kB)\n",
            "\u001b[K     |████████████████████████████████| 575 kB 33.7 MB/s \n",
            "\u001b[?25hCollecting pytest>=6\n",
            "  Downloading pytest-7.2.0-py3-none-any.whl (316 kB)\n",
            "\u001b[K     |████████████████████████████████| 316 kB 51.8 MB/s \n",
            "\u001b[?25hCollecting unidecode>=0.4.19\n",
            "  Downloading Unidecode-1.3.6-py3-none-any.whl (235 kB)\n",
            "\u001b[K     |████████████████████████████████| 235 kB 51.0 MB/s \n",
            "\u001b[?25hRequirement already satisfied: joblib in /usr/local/lib/python3.7/dist-packages (from nltk>=3.3->medspacy_quickumls>=2.4.1->medspacy==0.2.0.1) (1.2.0)\n",
            "Requirement already satisfied: tqdm in /usr/local/lib/python3.7/dist-packages (from nltk>=3.3->medspacy_quickumls>=2.4.1->medspacy==0.2.0.1) (4.64.1)\n",
            "Requirement already satisfied: click in /usr/local/lib/python3.7/dist-packages (from nltk>=3.3->medspacy_quickumls>=2.4.1->medspacy==0.2.0.1) (7.1.2)\n",
            "Requirement already satisfied: regex>=2021.8.3 in /usr/local/lib/python3.7/dist-packages (from nltk>=3.3->medspacy_quickumls>=2.4.1->medspacy==0.2.0.1) (2022.6.2)\n",
            "Collecting PyFastNER>=1.0.8b1\n",
            "  Downloading PyFastNER-1.0.8-py3-none-any.whl (18 kB)\n",
            "Collecting quicksectx>=0.3.1\n",
            "  Downloading quicksectx-0.3.5-cp37-cp37m-manylinux_2_17_x86_64.manylinux2014_x86_64.whl (313 kB)\n",
            "\u001b[K     |████████████████████████████████| 313 kB 50.9 MB/s \n",
            "\u001b[?25hRequirement already satisfied: tomli>=1.0.0 in /usr/local/lib/python3.7/dist-packages (from pytest>=6->medspacy_quickumls>=2.4.1->medspacy==0.2.0.1) (2.0.1)\n",
            "Collecting iniconfig\n",
            "  Downloading iniconfig-1.1.1-py2.py3-none-any.whl (5.0 kB)\n",
            "Collecting pluggy<2.0,>=0.12\n",
            "  Downloading pluggy-1.0.0-py2.py3-none-any.whl (13 kB)\n",
            "Requirement already satisfied: importlib-metadata>=0.12 in /usr/local/lib/python3.7/dist-packages (from pytest>=6->medspacy_quickumls>=2.4.1->medspacy==0.2.0.1) (4.13.0)\n",
            "Collecting exceptiongroup>=1.0.0rc8\n",
            "  Downloading exceptiongroup-1.0.4-py3-none-any.whl (14 kB)\n",
            "Requirement already satisfied: attrs>=19.2.0 in /usr/local/lib/python3.7/dist-packages (from pytest>=6->medspacy_quickumls>=2.4.1->medspacy==0.2.0.1) (22.1.0)\n",
            "Requirement already satisfied: packaging in /usr/local/lib/python3.7/dist-packages (from pytest>=6->medspacy_quickumls>=2.4.1->medspacy==0.2.0.1) (21.3)\n",
            "Requirement already satisfied: typing-extensions>=3.6.4 in /usr/local/lib/python3.7/dist-packages (from importlib-metadata>=0.12->pytest>=6->medspacy_quickumls>=2.4.1->medspacy==0.2.0.1) (4.1.1)\n",
            "Requirement already satisfied: zipp>=0.5 in /usr/local/lib/python3.7/dist-packages (from importlib-metadata>=0.12->pytest>=6->medspacy_quickumls>=2.4.1->medspacy==0.2.0.1) (3.10.0)\n",
            "Requirement already satisfied: Cython<3.0,>=0.25 in /usr/local/lib/python3.7/dist-packages (from quicksectx>=0.3.1->PyRuSH<=1.0.3.6,>=1.0.3.5->medspacy==0.2.0.1) (0.29.32)\n",
            "Requirement already satisfied: murmurhash<1.1.0,>=0.28.0 in /usr/local/lib/python3.7/dist-packages (from spacy<3.2.0,>=3.1.3->medspacy==0.2.0.1) (1.0.9)\n",
            "Requirement already satisfied: cymem<2.1.0,>=2.0.2 in /usr/local/lib/python3.7/dist-packages (from spacy<3.2.0,>=3.1.3->medspacy==0.2.0.1) (2.0.7)\n",
            "Collecting thinc<8.1.0,>=8.0.12\n",
            "  Downloading thinc-8.0.17-cp37-cp37m-manylinux_2_17_x86_64.manylinux2014_x86_64.whl (660 kB)\n",
            "\u001b[K     |████████████████████████████████| 660 kB 54.9 MB/s \n",
            "\u001b[?25hRequirement already satisfied: catalogue<2.1.0,>=2.0.6 in /usr/local/lib/python3.7/dist-packages (from spacy<3.2.0,>=3.1.3->medspacy==0.2.0.1) (2.0.8)\n",
            "Requirement already satisfied: preshed<3.1.0,>=3.0.2 in /usr/local/lib/python3.7/dist-packages (from spacy<3.2.0,>=3.1.3->medspacy==0.2.0.1) (3.0.8)\n",
            "Collecting pydantic!=1.8,!=1.8.1,<1.9.0,>=1.7.4\n",
            "  Downloading pydantic-1.8.2-cp37-cp37m-manylinux2014_x86_64.whl (10.1 MB)\n",
            "\u001b[K     |████████████████████████████████| 10.1 MB 42.2 MB/s \n",
            "\u001b[?25hRequirement already satisfied: spacy-legacy<3.1.0,>=3.0.8 in /usr/local/lib/python3.7/dist-packages (from spacy<3.2.0,>=3.1.3->medspacy==0.2.0.1) (3.0.10)\n",
            "Requirement already satisfied: wasabi<1.1.0,>=0.8.1 in /usr/local/lib/python3.7/dist-packages (from spacy<3.2.0,>=3.1.3->medspacy==0.2.0.1) (0.10.1)\n",
            "Requirement already satisfied: pathy>=0.3.5 in /usr/local/lib/python3.7/dist-packages (from spacy<3.2.0,>=3.1.3->medspacy==0.2.0.1) (0.8.1)\n",
            "Requirement already satisfied: setuptools in /usr/local/lib/python3.7/dist-packages (from spacy<3.2.0,>=3.1.3->medspacy==0.2.0.1) (57.4.0)\n",
            "Requirement already satisfied: blis<0.8.0,>=0.4.0 in /usr/local/lib/python3.7/dist-packages (from spacy<3.2.0,>=3.1.3->medspacy==0.2.0.1) (0.7.9)\n",
            "Requirement already satisfied: srsly<3.0.0,>=2.4.1 in /usr/local/lib/python3.7/dist-packages (from spacy<3.2.0,>=3.1.3->medspacy==0.2.0.1) (2.4.5)\n",
            "Collecting typing-extensions>=3.6.4\n",
            "  Downloading typing_extensions-3.10.0.2-py3-none-any.whl (26 kB)\n",
            "Collecting typer<0.5.0,>=0.3.0\n",
            "  Downloading typer-0.4.2-py3-none-any.whl (27 kB)\n",
            "Requirement already satisfied: jinja2 in /usr/local/lib/python3.7/dist-packages (from spacy<3.2.0,>=3.1.3->medspacy==0.2.0.1) (2.11.3)\n",
            "Requirement already satisfied: pyparsing!=3.0.5,>=2.0.2 in /usr/local/lib/python3.7/dist-packages (from packaging->pytest>=6->medspacy_quickumls>=2.4.1->medspacy==0.2.0.1) (3.0.9)\n",
            "Requirement already satisfied: smart-open<6.0.0,>=5.2.1 in /usr/local/lib/python3.7/dist-packages (from pathy>=0.3.5->spacy<3.2.0,>=3.1.3->medspacy==0.2.0.1) (5.2.1)\n",
            "Requirement already satisfied: MarkupSafe>=0.23 in /usr/local/lib/python3.7/dist-packages (from jinja2->spacy<3.2.0,>=3.1.3->medspacy==0.2.0.1) (2.0.1)\n",
            "Requirement already satisfied: pyrsistent!=0.17.0,!=0.17.1,!=0.17.2,>=0.14.0 in /usr/local/lib/python3.7/dist-packages (from jsonschema->medspacy==0.2.0.1) (0.19.2)\n",
            "Requirement already satisfied: importlib-resources>=1.4.0 in /usr/local/lib/python3.7/dist-packages (from jsonschema->medspacy==0.2.0.1) (5.10.0)\n",
            "Building wheels for collected packages: medspacy, leveldb, medspacy-simstring, unqlite\n",
            "  Building wheel for medspacy (setup.py) ... \u001b[?25l\u001b[?25hdone\n",
            "  Created wheel for medspacy: filename=medspacy-0.2.0.1-py3-none-any.whl size=151113 sha256=437ab642482a2754c4b636f724f3a6fec9b811723d0b39eb269d38db86538fe9\n",
            "  Stored in directory: /root/.cache/pip/wheels/95/74/12/ba14fcc8c604e02666118e442196d1c848e3519c614e084977\n",
            "  Building wheel for leveldb (setup.py) ... \u001b[?25l\u001b[?25hdone\n",
            "  Created wheel for leveldb: filename=leveldb-0.201-cp37-cp37m-linux_x86_64.whl size=1617165 sha256=c2b4f65a5514a82012f46141ab082523fa8a6c33bad9d63a4bcd419565d7e4d3\n",
            "  Stored in directory: /root/.cache/pip/wheels/fc/d1/ee/64fc1a724925dcad75d5c740e8cf49fcf3bf0179393e7f2756\n",
            "  Building wheel for medspacy-simstring (setup.py) ... \u001b[?25l\u001b[?25hdone\n",
            "  Created wheel for medspacy-simstring: filename=medspacy_simstring-2.1-cp37-cp37m-linux_x86_64.whl size=891823 sha256=dab24578e356d5dab41dec8ef79001fea513032d1bf2037e358437dca73d6159\n",
            "  Stored in directory: /root/.cache/pip/wheels/b0/41/4f/c8bc0a48306e59e066a28a5573c5a918f9e3c36f2a3f452d60\n",
            "  Building wheel for unqlite (setup.py) ... \u001b[?25l\u001b[?25hdone\n",
            "  Created wheel for unqlite: filename=unqlite-0.9.3-cp37-cp37m-linux_x86_64.whl size=1127424 sha256=e280ea68d9998b386547961d1a93e85b4697576943fadda28521fdad0155af9b\n",
            "  Stored in directory: /root/.cache/pip/wheels/23/04/2a/9a6be9b5fdef16b0473f19945818a77e5ad344c395f3616764\n",
            "Successfully built medspacy leveldb medspacy-simstring unqlite\n",
            "Installing collected packages: typing-extensions, typer, pydantic, thinc, requests, quicksectx, pluggy, iniconfig, exceptiongroup, unqlite, unidecode, spacy, pytest, PyFastNER, medspacy-simstring, leveldb, pysbd, PyRuSH, medspacy-quickumls, medspacy\n",
            "  Attempting uninstall: typing-extensions\n",
            "    Found existing installation: typing-extensions 4.1.1\n",
            "    Uninstalling typing-extensions-4.1.1:\n",
            "      Successfully uninstalled typing-extensions-4.1.1\n",
            "  Attempting uninstall: typer\n",
            "    Found existing installation: typer 0.7.0\n",
            "    Uninstalling typer-0.7.0:\n",
            "      Successfully uninstalled typer-0.7.0\n",
            "  Attempting uninstall: pydantic\n",
            "    Found existing installation: pydantic 1.10.2\n",
            "    Uninstalling pydantic-1.10.2:\n",
            "      Successfully uninstalled pydantic-1.10.2\n",
            "  Attempting uninstall: thinc\n",
            "    Found existing installation: thinc 8.1.5\n",
            "    Uninstalling thinc-8.1.5:\n",
            "      Successfully uninstalled thinc-8.1.5\n",
            "  Attempting uninstall: requests\n",
            "    Found existing installation: requests 2.23.0\n",
            "    Uninstalling requests-2.23.0:\n",
            "      Successfully uninstalled requests-2.23.0\n",
            "  Attempting uninstall: pluggy\n",
            "    Found existing installation: pluggy 0.7.1\n",
            "    Uninstalling pluggy-0.7.1:\n",
            "      Successfully uninstalled pluggy-0.7.1\n",
            "  Attempting uninstall: spacy\n",
            "    Found existing installation: spacy 3.4.3\n",
            "    Uninstalling spacy-3.4.3:\n",
            "      Successfully uninstalled spacy-3.4.3\n",
            "  Attempting uninstall: pytest\n",
            "    Found existing installation: pytest 3.6.4\n",
            "    Uninstalling pytest-3.6.4:\n",
            "      Successfully uninstalled pytest-3.6.4\n",
            "\u001b[31mERROR: pip's dependency resolver does not currently take into account all the packages that are installed. This behaviour is the source of the following dependency conflicts.\n",
            "tensorflow-datasets 4.6.0 requires requests>=2.19.0, but you have requests 2.15.1 which is incompatible.\n",
            "tensorboard 2.9.1 requires requests<3,>=2.21.0, but you have requests 2.15.1 which is incompatible.\n",
            "rich 12.6.0 requires typing-extensions<5.0,>=4.0.0; python_version < \"3.9\", but you have typing-extensions 3.10.0.2 which is incompatible.\n",
            "pooch 1.6.0 requires requests>=2.19.0, but you have requests 2.15.1 which is incompatible.\n",
            "pandas-datareader 0.9.0 requires requests>=2.19.0, but you have requests 2.15.1 which is incompatible.\n",
            "google-colab 1.0.0 requires requests>=2.23.0, but you have requests 2.15.1 which is incompatible.\n",
            "google-cloud-storage 2.5.0 requires requests<3.0.0dev,>=2.18.0, but you have requests 2.15.1 which is incompatible.\n",
            "google-cloud-bigquery 3.3.6 requires requests<3.0.0dev,>=2.21.0, but you have requests 2.15.1 which is incompatible.\n",
            "google-api-core 2.8.2 requires requests<3.0.0dev,>=2.18.0, but you have requests 2.15.1 which is incompatible.\n",
            "en-core-web-sm 3.4.1 requires spacy<3.5.0,>=3.4.0, but you have spacy 3.1.6 which is incompatible.\u001b[0m\n",
            "Successfully installed PyFastNER-1.0.8 PyRuSH-1.0.3.6 exceptiongroup-1.0.4 iniconfig-1.1.1 leveldb-0.201 medspacy-0.2.0.1 medspacy-quickumls-2.6 medspacy-simstring-2.1 pluggy-1.0.0 pydantic-1.8.2 pysbd-0.3.4 pytest-7.2.0 quicksectx-0.3.5 requests-2.15.1 spacy-3.1.6 thinc-8.0.17 typer-0.4.2 typing-extensions-3.10.0.2 unidecode-1.3.6 unqlite-0.9.3\n"
          ]
        },
        {
          "output_type": "display_data",
          "data": {
            "application/vnd.colab-display-data+json": {
              "pip_warning": {
                "packages": [
                  "typing_extensions"
                ]
              }
            }
          },
          "metadata": {}
        }
      ]
    },
    {
      "cell_type": "code",
      "source": [
        "%%writefile streamlit_app.py\n",
        "\n",
        "\n",
        "# Importing libraries\n",
        "\n",
        "import pandas as pd\n",
        "import streamlit as st\n",
        "import spacy_streamlit\n",
        "import spacy\n",
        "from spacy import displacy\n",
        "from PyPDF2 import PdfReader\n",
        "import medspacy\n",
        "from medspacy.ner import TargetRule\n",
        "from medspacy.visualization import visualize_ent\n",
        "from spacy_streamlit import visualize_parser\n",
        "\n",
        "\n",
        "st.title('Discharge Summary Extractor')\n",
        "uploaded_file = st.file_uploader(\"Choose a file\")\n",
        "\n",
        "@st.cache(allow_output_mutation=True)\n",
        "def loading_ml_model(): \n",
        "\n",
        "  #problemlist=[\"allergies\",\"asthma\",\"diabetes\"]\n",
        "  #medilist=[\"Claritin\",\"Zyrtec\",\"Ortho Tri-Cyclen\",\"Allegra\"]\n",
        "\n",
        "  #Getting disease list\n",
        "  diseasedf = pd.read_csv('/content/diseasedataset.csv')\n",
        "  diseaselist = diseasedf['diseasename'].tolist()\n",
        "  print(\"Completed loading disease dataset.\")\n",
        "\n",
        "  # Getting drug list\n",
        "  drugdf = pd.read_csv('/content/drugdataset.csv')\n",
        "  druglist = drugdf['drugName'].tolist()\n",
        "  dglist=[]\n",
        "  for x in druglist[:2000]:\n",
        "      dglist.append(x)\n",
        "  print(\"Completed loading drug dataset.\")\n",
        "\n",
        "  \n",
        "  # Load medspacy model\n",
        "\n",
        "  nlp = medspacy.load()\n",
        "  print(nlp.pipe_names)\n",
        "  print(\"Started adding rules to nlp model..........\")\n",
        "  # Add rules for target concept extraction\n",
        "  target_matcher = nlp.get_pipe(\"medspacy_target_matcher\")\n",
        "  for i in diseaselist:\n",
        "    for j in dglist:\n",
        "      target_rules = [\n",
        "        TargetRule(i, \"PROBLEM\"),  \n",
        "        TargetRule(j, \"MEDICATION\")\n",
        "            ]\n",
        "      target_matcher.add(target_rules)\n",
        "  print(\"Completed making rules in nlp model\")\n",
        "  return nlp\n",
        "\n",
        "\n",
        "if(uploaded_file is not None):\n",
        "  reader = PdfReader(uploaded_file)\n",
        "  print(\"Successfully read the file!\")\n",
        "  nlp=loading_ml_model()\n",
        "  print(\"Completed loading the NLP model.\")\n",
        "  st.markdown('**Successfully loaded NLP model.**')\n",
        "  st.subheader('Extracted Data:')\n",
        "  st.markdown('Note: _The  first page of PDF is only considered for processing_!')\n",
        "  number_of_pages = len(reader.pages)\n",
        "  page = reader.pages[0]\n",
        "  text_data = page.extract_text()\n",
        "  doc = nlp(text_data)\n",
        "  print(\"Extracted the data.\")\n",
        "  visualize_ent(doc)\n",
        "  html =displacy.render(doc, style=\"ent\", page=True)\n",
        "  st.components.v1.html(html, width=1000, height=1000, scrolling=True)\n"
      ],
      "metadata": {
        "colab": {
          "base_uri": "https://localhost:8080/"
        },
        "id": "bsRekC2eSIhj",
        "outputId": "8e856077-2487-4b76-aa69-6c807563d92d"
      },
      "execution_count": 19,
      "outputs": [
        {
          "output_type": "stream",
          "name": "stdout",
          "text": [
            "Overwriting streamlit_app.py\n"
          ]
        }
      ]
    },
    {
      "cell_type": "code",
      "source": [
        "!streamlit run /content/streamlit_app.py & npx localtunnel --port 8501"
      ],
      "metadata": {
        "colab": {
          "base_uri": "https://localhost:8080/"
        },
        "id": "vQQcK49uSv5t",
        "outputId": "6e27132d-abfb-4e19-d103-d73e55569985"
      },
      "execution_count": null,
      "outputs": [
        {
          "output_type": "stream",
          "name": "stdout",
          "text": [
            "\u001b[K\u001b[?25hnpx: installed 22 in 2.337s\n",
            "your url is: https://cyan-boxes-make-35-199-31-98.loca.lt\n",
            "\n",
            "Collecting usage statistics. To deactivate, set browser.gatherUsageStats to False.\n",
            "\u001b[0m\n",
            "\u001b[0m\n",
            "\u001b[34m\u001b[1m  You can now view your Streamlit app in your browser.\u001b[0m\n",
            "\u001b[0m\n",
            "\u001b[34m  Network URL: \u001b[0m\u001b[1mhttp://172.28.0.2:8501\u001b[0m\n",
            "\u001b[34m  External URL: \u001b[0m\u001b[1mhttp://35.199.31.98:8501\u001b[0m\n",
            "\u001b[0m\n",
            "Successfully read the file!\n",
            "Completed loading disease dataset.\n",
            "Completed loading drug dataset.\n",
            "['medspacy_pyrush', 'medspacy_target_matcher', 'medspacy_context']\n",
            "Started adding rules to nlp model..........\n",
            "Completed making rules in nlp model\n",
            "Completed loading the NLP model.\n",
            "/usr/local/lib/python3.7/dist-packages/medspacy/common/medspacy_matcher.py:80: UserWarning: [W036] The component 'matcher' does not have any patterns defined.\n",
            "  matches = self.matcher(doc)\n",
            "Extracted the data\n",
            "<IPython.core.display.HTML object>\n"
          ]
        }
      ]
    }
  ]
}